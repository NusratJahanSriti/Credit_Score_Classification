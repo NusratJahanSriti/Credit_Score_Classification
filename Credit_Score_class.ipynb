{
  "cells": [
    {
      "cell_type": "code",
      "execution_count": 197,
      "metadata": {
        "id": "XeGlmm4YTABD"
      },
      "outputs": [],
      "source": [
        "import os\n",
        "import pandas as pd\n",
        "import numpy as np\n",
        "import sklearn\n",
        "from sklearn.preprocessing import StandardScaler\n",
        "from sklearn.linear_model import LogisticRegression\n",
        "import matplotlib as plt\n",
        "import seaborn as sns\n",
        "from sklearn.impute import SimpleImputer\n",
        "from sklearn.ensemble import RandomForestClassifier\n",
        "from IPython import display\n",
        "from sklearn.model_selection import train_test_split\n",
        "from sklearn.tree import DecisionTreeClassifier\n",
        "from sklearn.neighbors import KNeighborsClassifier"
      ]
    },
    {
      "cell_type": "markdown",
      "metadata": {
        "id": "FtYz7FeaZCqT"
      },
      "source": [
        "**Data Collection & Processing**\n"
      ]
    },
    {
      "cell_type": "markdown",
      "metadata": {
        "id": "RlPFu-bxdDqg"
      },
      "source": [
        "Importing the Train data"
      ]
    },
    {
      "cell_type": "code",
      "execution_count": 198,
      "metadata": {
        "colab": {
          "base_uri": "https://localhost:8080/",
          "height": 463
        },
        "id": "NiHLYWIqZJSV",
        "outputId": "77be7cc1-7089-466a-a558-e2784dfa9e66"
      },
      "outputs": [
        {
          "output_type": "stream",
          "name": "stderr",
          "text": [
            "<ipython-input-198-d125069d9834>:1: DtypeWarning: Columns (26) have mixed types. Specify dtype option on import or set low_memory=False.\n",
            "  train_df = pd.read_csv('/content/train.csv')#Load the train data from csv\n"
          ]
        },
        {
          "output_type": "execute_result",
          "data": {
            "text/plain": [
              "       ID Customer_ID     Month           Name   Age          SSN Occupation  \\\n",
              "0  0x1602   CUS_0xd40   January  Aaron Maashoh    23  821-00-0265  Scientist   \n",
              "1  0x1603   CUS_0xd40  February  Aaron Maashoh    23  821-00-0265  Scientist   \n",
              "2  0x1604   CUS_0xd40     March  Aaron Maashoh  -500  821-00-0265  Scientist   \n",
              "3  0x1605   CUS_0xd40     April  Aaron Maashoh    23  821-00-0265  Scientist   \n",
              "4  0x1606   CUS_0xd40       May  Aaron Maashoh    23  821-00-0265  Scientist   \n",
              "\n",
              "  Annual_Income  Monthly_Inhand_Salary  Num_Bank_Accounts  ...  Credit_Mix  \\\n",
              "0      19114.12            1824.843333                  3  ...           _   \n",
              "1      19114.12                    NaN                  3  ...        Good   \n",
              "2      19114.12                    NaN                  3  ...        Good   \n",
              "3      19114.12                    NaN                  3  ...        Good   \n",
              "4      19114.12            1824.843333                  3  ...        Good   \n",
              "\n",
              "   Outstanding_Debt Credit_Utilization_Ratio     Credit_History_Age  \\\n",
              "0            809.98                26.822620  22 Years and 1 Months   \n",
              "1            809.98                31.944960                    NaN   \n",
              "2            809.98                28.609352  22 Years and 3 Months   \n",
              "3            809.98                31.377862  22 Years and 4 Months   \n",
              "4            809.98                24.797347  22 Years and 5 Months   \n",
              "\n",
              "   Payment_of_Min_Amount Total_EMI_per_month Amount_invested_monthly  \\\n",
              "0                     No           49.574949             80.41529544   \n",
              "1                     No           49.574949             118.2802216   \n",
              "2                     No           49.574949             81.69952126   \n",
              "3                     No           49.574949             199.4580744   \n",
              "4                     No           49.574949             41.42015309   \n",
              "\n",
              "                  Payment_Behaviour Monthly_Balance Credit_Score  \n",
              "0   High_spent_Small_value_payments     312.4940887         Good  \n",
              "1    Low_spent_Large_value_payments     284.6291625         Good  \n",
              "2   Low_spent_Medium_value_payments     331.2098629         Good  \n",
              "3    Low_spent_Small_value_payments     223.4513097         Good  \n",
              "4  High_spent_Medium_value_payments      341.489231         Good  \n",
              "\n",
              "[5 rows x 28 columns]"
            ],
            "text/html": [
              "\n",
              "  <div id=\"df-bc2b6488-27ca-4162-a21d-6098f77061f8\" class=\"colab-df-container\">\n",
              "    <div>\n",
              "<style scoped>\n",
              "    .dataframe tbody tr th:only-of-type {\n",
              "        vertical-align: middle;\n",
              "    }\n",
              "\n",
              "    .dataframe tbody tr th {\n",
              "        vertical-align: top;\n",
              "    }\n",
              "\n",
              "    .dataframe thead th {\n",
              "        text-align: right;\n",
              "    }\n",
              "</style>\n",
              "<table border=\"1\" class=\"dataframe\">\n",
              "  <thead>\n",
              "    <tr style=\"text-align: right;\">\n",
              "      <th></th>\n",
              "      <th>ID</th>\n",
              "      <th>Customer_ID</th>\n",
              "      <th>Month</th>\n",
              "      <th>Name</th>\n",
              "      <th>Age</th>\n",
              "      <th>SSN</th>\n",
              "      <th>Occupation</th>\n",
              "      <th>Annual_Income</th>\n",
              "      <th>Monthly_Inhand_Salary</th>\n",
              "      <th>Num_Bank_Accounts</th>\n",
              "      <th>...</th>\n",
              "      <th>Credit_Mix</th>\n",
              "      <th>Outstanding_Debt</th>\n",
              "      <th>Credit_Utilization_Ratio</th>\n",
              "      <th>Credit_History_Age</th>\n",
              "      <th>Payment_of_Min_Amount</th>\n",
              "      <th>Total_EMI_per_month</th>\n",
              "      <th>Amount_invested_monthly</th>\n",
              "      <th>Payment_Behaviour</th>\n",
              "      <th>Monthly_Balance</th>\n",
              "      <th>Credit_Score</th>\n",
              "    </tr>\n",
              "  </thead>\n",
              "  <tbody>\n",
              "    <tr>\n",
              "      <th>0</th>\n",
              "      <td>0x1602</td>\n",
              "      <td>CUS_0xd40</td>\n",
              "      <td>January</td>\n",
              "      <td>Aaron Maashoh</td>\n",
              "      <td>23</td>\n",
              "      <td>821-00-0265</td>\n",
              "      <td>Scientist</td>\n",
              "      <td>19114.12</td>\n",
              "      <td>1824.843333</td>\n",
              "      <td>3</td>\n",
              "      <td>...</td>\n",
              "      <td>_</td>\n",
              "      <td>809.98</td>\n",
              "      <td>26.822620</td>\n",
              "      <td>22 Years and 1 Months</td>\n",
              "      <td>No</td>\n",
              "      <td>49.574949</td>\n",
              "      <td>80.41529544</td>\n",
              "      <td>High_spent_Small_value_payments</td>\n",
              "      <td>312.4940887</td>\n",
              "      <td>Good</td>\n",
              "    </tr>\n",
              "    <tr>\n",
              "      <th>1</th>\n",
              "      <td>0x1603</td>\n",
              "      <td>CUS_0xd40</td>\n",
              "      <td>February</td>\n",
              "      <td>Aaron Maashoh</td>\n",
              "      <td>23</td>\n",
              "      <td>821-00-0265</td>\n",
              "      <td>Scientist</td>\n",
              "      <td>19114.12</td>\n",
              "      <td>NaN</td>\n",
              "      <td>3</td>\n",
              "      <td>...</td>\n",
              "      <td>Good</td>\n",
              "      <td>809.98</td>\n",
              "      <td>31.944960</td>\n",
              "      <td>NaN</td>\n",
              "      <td>No</td>\n",
              "      <td>49.574949</td>\n",
              "      <td>118.2802216</td>\n",
              "      <td>Low_spent_Large_value_payments</td>\n",
              "      <td>284.6291625</td>\n",
              "      <td>Good</td>\n",
              "    </tr>\n",
              "    <tr>\n",
              "      <th>2</th>\n",
              "      <td>0x1604</td>\n",
              "      <td>CUS_0xd40</td>\n",
              "      <td>March</td>\n",
              "      <td>Aaron Maashoh</td>\n",
              "      <td>-500</td>\n",
              "      <td>821-00-0265</td>\n",
              "      <td>Scientist</td>\n",
              "      <td>19114.12</td>\n",
              "      <td>NaN</td>\n",
              "      <td>3</td>\n",
              "      <td>...</td>\n",
              "      <td>Good</td>\n",
              "      <td>809.98</td>\n",
              "      <td>28.609352</td>\n",
              "      <td>22 Years and 3 Months</td>\n",
              "      <td>No</td>\n",
              "      <td>49.574949</td>\n",
              "      <td>81.69952126</td>\n",
              "      <td>Low_spent_Medium_value_payments</td>\n",
              "      <td>331.2098629</td>\n",
              "      <td>Good</td>\n",
              "    </tr>\n",
              "    <tr>\n",
              "      <th>3</th>\n",
              "      <td>0x1605</td>\n",
              "      <td>CUS_0xd40</td>\n",
              "      <td>April</td>\n",
              "      <td>Aaron Maashoh</td>\n",
              "      <td>23</td>\n",
              "      <td>821-00-0265</td>\n",
              "      <td>Scientist</td>\n",
              "      <td>19114.12</td>\n",
              "      <td>NaN</td>\n",
              "      <td>3</td>\n",
              "      <td>...</td>\n",
              "      <td>Good</td>\n",
              "      <td>809.98</td>\n",
              "      <td>31.377862</td>\n",
              "      <td>22 Years and 4 Months</td>\n",
              "      <td>No</td>\n",
              "      <td>49.574949</td>\n",
              "      <td>199.4580744</td>\n",
              "      <td>Low_spent_Small_value_payments</td>\n",
              "      <td>223.4513097</td>\n",
              "      <td>Good</td>\n",
              "    </tr>\n",
              "    <tr>\n",
              "      <th>4</th>\n",
              "      <td>0x1606</td>\n",
              "      <td>CUS_0xd40</td>\n",
              "      <td>May</td>\n",
              "      <td>Aaron Maashoh</td>\n",
              "      <td>23</td>\n",
              "      <td>821-00-0265</td>\n",
              "      <td>Scientist</td>\n",
              "      <td>19114.12</td>\n",
              "      <td>1824.843333</td>\n",
              "      <td>3</td>\n",
              "      <td>...</td>\n",
              "      <td>Good</td>\n",
              "      <td>809.98</td>\n",
              "      <td>24.797347</td>\n",
              "      <td>22 Years and 5 Months</td>\n",
              "      <td>No</td>\n",
              "      <td>49.574949</td>\n",
              "      <td>41.42015309</td>\n",
              "      <td>High_spent_Medium_value_payments</td>\n",
              "      <td>341.489231</td>\n",
              "      <td>Good</td>\n",
              "    </tr>\n",
              "  </tbody>\n",
              "</table>\n",
              "<p>5 rows × 28 columns</p>\n",
              "</div>\n",
              "    <div class=\"colab-df-buttons\">\n",
              "\n",
              "  <div class=\"colab-df-container\">\n",
              "    <button class=\"colab-df-convert\" onclick=\"convertToInteractive('df-bc2b6488-27ca-4162-a21d-6098f77061f8')\"\n",
              "            title=\"Convert this dataframe to an interactive table.\"\n",
              "            style=\"display:none;\">\n",
              "\n",
              "  <svg xmlns=\"http://www.w3.org/2000/svg\" height=\"24px\" viewBox=\"0 -960 960 960\">\n",
              "    <path d=\"M120-120v-720h720v720H120Zm60-500h600v-160H180v160Zm220 220h160v-160H400v160Zm0 220h160v-160H400v160ZM180-400h160v-160H180v160Zm440 0h160v-160H620v160ZM180-180h160v-160H180v160Zm440 0h160v-160H620v160Z\"/>\n",
              "  </svg>\n",
              "    </button>\n",
              "\n",
              "  <style>\n",
              "    .colab-df-container {\n",
              "      display:flex;\n",
              "      gap: 12px;\n",
              "    }\n",
              "\n",
              "    .colab-df-convert {\n",
              "      background-color: #E8F0FE;\n",
              "      border: none;\n",
              "      border-radius: 50%;\n",
              "      cursor: pointer;\n",
              "      display: none;\n",
              "      fill: #1967D2;\n",
              "      height: 32px;\n",
              "      padding: 0 0 0 0;\n",
              "      width: 32px;\n",
              "    }\n",
              "\n",
              "    .colab-df-convert:hover {\n",
              "      background-color: #E2EBFA;\n",
              "      box-shadow: 0px 1px 2px rgba(60, 64, 67, 0.3), 0px 1px 3px 1px rgba(60, 64, 67, 0.15);\n",
              "      fill: #174EA6;\n",
              "    }\n",
              "\n",
              "    .colab-df-buttons div {\n",
              "      margin-bottom: 4px;\n",
              "    }\n",
              "\n",
              "    [theme=dark] .colab-df-convert {\n",
              "      background-color: #3B4455;\n",
              "      fill: #D2E3FC;\n",
              "    }\n",
              "\n",
              "    [theme=dark] .colab-df-convert:hover {\n",
              "      background-color: #434B5C;\n",
              "      box-shadow: 0px 1px 3px 1px rgba(0, 0, 0, 0.15);\n",
              "      filter: drop-shadow(0px 1px 2px rgba(0, 0, 0, 0.3));\n",
              "      fill: #FFFFFF;\n",
              "    }\n",
              "  </style>\n",
              "\n",
              "    <script>\n",
              "      const buttonEl =\n",
              "        document.querySelector('#df-bc2b6488-27ca-4162-a21d-6098f77061f8 button.colab-df-convert');\n",
              "      buttonEl.style.display =\n",
              "        google.colab.kernel.accessAllowed ? 'block' : 'none';\n",
              "\n",
              "      async function convertToInteractive(key) {\n",
              "        const element = document.querySelector('#df-bc2b6488-27ca-4162-a21d-6098f77061f8');\n",
              "        const dataTable =\n",
              "          await google.colab.kernel.invokeFunction('convertToInteractive',\n",
              "                                                    [key], {});\n",
              "        if (!dataTable) return;\n",
              "\n",
              "        const docLinkHtml = 'Like what you see? Visit the ' +\n",
              "          '<a target=\"_blank\" href=https://colab.research.google.com/notebooks/data_table.ipynb>data table notebook</a>'\n",
              "          + ' to learn more about interactive tables.';\n",
              "        element.innerHTML = '';\n",
              "        dataTable['output_type'] = 'display_data';\n",
              "        await google.colab.output.renderOutput(dataTable, element);\n",
              "        const docLink = document.createElement('div');\n",
              "        docLink.innerHTML = docLinkHtml;\n",
              "        element.appendChild(docLink);\n",
              "      }\n",
              "    </script>\n",
              "  </div>\n",
              "\n",
              "\n",
              "<div id=\"df-f3e8cccd-076f-417d-8d2e-1cf735887bb6\">\n",
              "  <button class=\"colab-df-quickchart\" onclick=\"quickchart('df-f3e8cccd-076f-417d-8d2e-1cf735887bb6')\"\n",
              "            title=\"Suggest charts\"\n",
              "            style=\"display:none;\">\n",
              "\n",
              "<svg xmlns=\"http://www.w3.org/2000/svg\" height=\"24px\"viewBox=\"0 0 24 24\"\n",
              "     width=\"24px\">\n",
              "    <g>\n",
              "        <path d=\"M19 3H5c-1.1 0-2 .9-2 2v14c0 1.1.9 2 2 2h14c1.1 0 2-.9 2-2V5c0-1.1-.9-2-2-2zM9 17H7v-7h2v7zm4 0h-2V7h2v10zm4 0h-2v-4h2v4z\"/>\n",
              "    </g>\n",
              "</svg>\n",
              "  </button>\n",
              "\n",
              "<style>\n",
              "  .colab-df-quickchart {\n",
              "      --bg-color: #E8F0FE;\n",
              "      --fill-color: #1967D2;\n",
              "      --hover-bg-color: #E2EBFA;\n",
              "      --hover-fill-color: #174EA6;\n",
              "      --disabled-fill-color: #AAA;\n",
              "      --disabled-bg-color: #DDD;\n",
              "  }\n",
              "\n",
              "  [theme=dark] .colab-df-quickchart {\n",
              "      --bg-color: #3B4455;\n",
              "      --fill-color: #D2E3FC;\n",
              "      --hover-bg-color: #434B5C;\n",
              "      --hover-fill-color: #FFFFFF;\n",
              "      --disabled-bg-color: #3B4455;\n",
              "      --disabled-fill-color: #666;\n",
              "  }\n",
              "\n",
              "  .colab-df-quickchart {\n",
              "    background-color: var(--bg-color);\n",
              "    border: none;\n",
              "    border-radius: 50%;\n",
              "    cursor: pointer;\n",
              "    display: none;\n",
              "    fill: var(--fill-color);\n",
              "    height: 32px;\n",
              "    padding: 0;\n",
              "    width: 32px;\n",
              "  }\n",
              "\n",
              "  .colab-df-quickchart:hover {\n",
              "    background-color: var(--hover-bg-color);\n",
              "    box-shadow: 0 1px 2px rgba(60, 64, 67, 0.3), 0 1px 3px 1px rgba(60, 64, 67, 0.15);\n",
              "    fill: var(--button-hover-fill-color);\n",
              "  }\n",
              "\n",
              "  .colab-df-quickchart-complete:disabled,\n",
              "  .colab-df-quickchart-complete:disabled:hover {\n",
              "    background-color: var(--disabled-bg-color);\n",
              "    fill: var(--disabled-fill-color);\n",
              "    box-shadow: none;\n",
              "  }\n",
              "\n",
              "  .colab-df-spinner {\n",
              "    border: 2px solid var(--fill-color);\n",
              "    border-color: transparent;\n",
              "    border-bottom-color: var(--fill-color);\n",
              "    animation:\n",
              "      spin 1s steps(1) infinite;\n",
              "  }\n",
              "\n",
              "  @keyframes spin {\n",
              "    0% {\n",
              "      border-color: transparent;\n",
              "      border-bottom-color: var(--fill-color);\n",
              "      border-left-color: var(--fill-color);\n",
              "    }\n",
              "    20% {\n",
              "      border-color: transparent;\n",
              "      border-left-color: var(--fill-color);\n",
              "      border-top-color: var(--fill-color);\n",
              "    }\n",
              "    30% {\n",
              "      border-color: transparent;\n",
              "      border-left-color: var(--fill-color);\n",
              "      border-top-color: var(--fill-color);\n",
              "      border-right-color: var(--fill-color);\n",
              "    }\n",
              "    40% {\n",
              "      border-color: transparent;\n",
              "      border-right-color: var(--fill-color);\n",
              "      border-top-color: var(--fill-color);\n",
              "    }\n",
              "    60% {\n",
              "      border-color: transparent;\n",
              "      border-right-color: var(--fill-color);\n",
              "    }\n",
              "    80% {\n",
              "      border-color: transparent;\n",
              "      border-right-color: var(--fill-color);\n",
              "      border-bottom-color: var(--fill-color);\n",
              "    }\n",
              "    90% {\n",
              "      border-color: transparent;\n",
              "      border-bottom-color: var(--fill-color);\n",
              "    }\n",
              "  }\n",
              "</style>\n",
              "\n",
              "  <script>\n",
              "    async function quickchart(key) {\n",
              "      const quickchartButtonEl =\n",
              "        document.querySelector('#' + key + ' button');\n",
              "      quickchartButtonEl.disabled = true;  // To prevent multiple clicks.\n",
              "      quickchartButtonEl.classList.add('colab-df-spinner');\n",
              "      try {\n",
              "        const charts = await google.colab.kernel.invokeFunction(\n",
              "            'suggestCharts', [key], {});\n",
              "      } catch (error) {\n",
              "        console.error('Error during call to suggestCharts:', error);\n",
              "      }\n",
              "      quickchartButtonEl.classList.remove('colab-df-spinner');\n",
              "      quickchartButtonEl.classList.add('colab-df-quickchart-complete');\n",
              "    }\n",
              "    (() => {\n",
              "      let quickchartButtonEl =\n",
              "        document.querySelector('#df-f3e8cccd-076f-417d-8d2e-1cf735887bb6 button');\n",
              "      quickchartButtonEl.style.display =\n",
              "        google.colab.kernel.accessAllowed ? 'block' : 'none';\n",
              "    })();\n",
              "  </script>\n",
              "</div>\n",
              "    </div>\n",
              "  </div>\n"
            ]
          },
          "metadata": {},
          "execution_count": 198
        }
      ],
      "source": [
        "train_df = pd.read_csv('/content/train.csv')#Load the train data from csv\n",
        "train_df.head() #Printing the first 5 rows of the dataframe"
      ]
    },
    {
      "cell_type": "code",
      "execution_count": 199,
      "metadata": {
        "colab": {
          "base_uri": "https://localhost:8080/"
        },
        "id": "w0ZHygBoZ24u",
        "outputId": "90ffa370-6de9-47b1-a979-61991c0db949"
      },
      "outputs": [
        {
          "output_type": "execute_result",
          "data": {
            "text/plain": [
              "(100000, 28)"
            ]
          },
          "metadata": {},
          "execution_count": 199
        }
      ],
      "source": [
        "#Number of rows and Columns\n",
        "train_df.shape"
      ]
    },
    {
      "cell_type": "code",
      "execution_count": 200,
      "metadata": {
        "colab": {
          "base_uri": "https://localhost:8080/",
          "height": 320
        },
        "id": "bk3zuc7HaBdN",
        "outputId": "46c171e7-5739-44e3-e8fa-456c20695181"
      },
      "outputs": [
        {
          "output_type": "execute_result",
          "data": {
            "text/plain": [
              "       Monthly_Inhand_Salary  Num_Bank_Accounts  Num_Credit_Card  \\\n",
              "count           84998.000000      100000.000000     100000.00000   \n",
              "mean             4194.170850          17.091280         22.47443   \n",
              "std              3183.686167         117.404834        129.05741   \n",
              "min               303.645417          -1.000000          0.00000   \n",
              "25%              1625.568229           3.000000          4.00000   \n",
              "50%              3093.745000           6.000000          5.00000   \n",
              "75%              5957.448333           7.000000          7.00000   \n",
              "max             15204.633330        1798.000000       1499.00000   \n",
              "\n",
              "       Interest_Rate  Delay_from_due_date  Num_Credit_Inquiries  \\\n",
              "count  100000.000000        100000.000000          98035.000000   \n",
              "mean       72.466040            21.068780             27.754251   \n",
              "std       466.422621            14.860104            193.177339   \n",
              "min         1.000000            -5.000000              0.000000   \n",
              "25%         8.000000            10.000000              3.000000   \n",
              "50%        13.000000            18.000000              6.000000   \n",
              "75%        20.000000            28.000000              9.000000   \n",
              "max      5797.000000            67.000000           2597.000000   \n",
              "\n",
              "       Credit_Utilization_Ratio  Total_EMI_per_month  \n",
              "count             100000.000000        100000.000000  \n",
              "mean                  32.285173          1403.118217  \n",
              "std                    5.116875          8306.041270  \n",
              "min                   20.000000             0.000000  \n",
              "25%                   28.052567            30.306660  \n",
              "50%                   32.305784            69.249473  \n",
              "75%                   36.496663           161.224249  \n",
              "max                   50.000000         82331.000000  "
            ],
            "text/html": [
              "\n",
              "  <div id=\"df-2453b32c-1cee-4801-984c-f9fb1d29b966\" class=\"colab-df-container\">\n",
              "    <div>\n",
              "<style scoped>\n",
              "    .dataframe tbody tr th:only-of-type {\n",
              "        vertical-align: middle;\n",
              "    }\n",
              "\n",
              "    .dataframe tbody tr th {\n",
              "        vertical-align: top;\n",
              "    }\n",
              "\n",
              "    .dataframe thead th {\n",
              "        text-align: right;\n",
              "    }\n",
              "</style>\n",
              "<table border=\"1\" class=\"dataframe\">\n",
              "  <thead>\n",
              "    <tr style=\"text-align: right;\">\n",
              "      <th></th>\n",
              "      <th>Monthly_Inhand_Salary</th>\n",
              "      <th>Num_Bank_Accounts</th>\n",
              "      <th>Num_Credit_Card</th>\n",
              "      <th>Interest_Rate</th>\n",
              "      <th>Delay_from_due_date</th>\n",
              "      <th>Num_Credit_Inquiries</th>\n",
              "      <th>Credit_Utilization_Ratio</th>\n",
              "      <th>Total_EMI_per_month</th>\n",
              "    </tr>\n",
              "  </thead>\n",
              "  <tbody>\n",
              "    <tr>\n",
              "      <th>count</th>\n",
              "      <td>84998.000000</td>\n",
              "      <td>100000.000000</td>\n",
              "      <td>100000.00000</td>\n",
              "      <td>100000.000000</td>\n",
              "      <td>100000.000000</td>\n",
              "      <td>98035.000000</td>\n",
              "      <td>100000.000000</td>\n",
              "      <td>100000.000000</td>\n",
              "    </tr>\n",
              "    <tr>\n",
              "      <th>mean</th>\n",
              "      <td>4194.170850</td>\n",
              "      <td>17.091280</td>\n",
              "      <td>22.47443</td>\n",
              "      <td>72.466040</td>\n",
              "      <td>21.068780</td>\n",
              "      <td>27.754251</td>\n",
              "      <td>32.285173</td>\n",
              "      <td>1403.118217</td>\n",
              "    </tr>\n",
              "    <tr>\n",
              "      <th>std</th>\n",
              "      <td>3183.686167</td>\n",
              "      <td>117.404834</td>\n",
              "      <td>129.05741</td>\n",
              "      <td>466.422621</td>\n",
              "      <td>14.860104</td>\n",
              "      <td>193.177339</td>\n",
              "      <td>5.116875</td>\n",
              "      <td>8306.041270</td>\n",
              "    </tr>\n",
              "    <tr>\n",
              "      <th>min</th>\n",
              "      <td>303.645417</td>\n",
              "      <td>-1.000000</td>\n",
              "      <td>0.00000</td>\n",
              "      <td>1.000000</td>\n",
              "      <td>-5.000000</td>\n",
              "      <td>0.000000</td>\n",
              "      <td>20.000000</td>\n",
              "      <td>0.000000</td>\n",
              "    </tr>\n",
              "    <tr>\n",
              "      <th>25%</th>\n",
              "      <td>1625.568229</td>\n",
              "      <td>3.000000</td>\n",
              "      <td>4.00000</td>\n",
              "      <td>8.000000</td>\n",
              "      <td>10.000000</td>\n",
              "      <td>3.000000</td>\n",
              "      <td>28.052567</td>\n",
              "      <td>30.306660</td>\n",
              "    </tr>\n",
              "    <tr>\n",
              "      <th>50%</th>\n",
              "      <td>3093.745000</td>\n",
              "      <td>6.000000</td>\n",
              "      <td>5.00000</td>\n",
              "      <td>13.000000</td>\n",
              "      <td>18.000000</td>\n",
              "      <td>6.000000</td>\n",
              "      <td>32.305784</td>\n",
              "      <td>69.249473</td>\n",
              "    </tr>\n",
              "    <tr>\n",
              "      <th>75%</th>\n",
              "      <td>5957.448333</td>\n",
              "      <td>7.000000</td>\n",
              "      <td>7.00000</td>\n",
              "      <td>20.000000</td>\n",
              "      <td>28.000000</td>\n",
              "      <td>9.000000</td>\n",
              "      <td>36.496663</td>\n",
              "      <td>161.224249</td>\n",
              "    </tr>\n",
              "    <tr>\n",
              "      <th>max</th>\n",
              "      <td>15204.633330</td>\n",
              "      <td>1798.000000</td>\n",
              "      <td>1499.00000</td>\n",
              "      <td>5797.000000</td>\n",
              "      <td>67.000000</td>\n",
              "      <td>2597.000000</td>\n",
              "      <td>50.000000</td>\n",
              "      <td>82331.000000</td>\n",
              "    </tr>\n",
              "  </tbody>\n",
              "</table>\n",
              "</div>\n",
              "    <div class=\"colab-df-buttons\">\n",
              "\n",
              "  <div class=\"colab-df-container\">\n",
              "    <button class=\"colab-df-convert\" onclick=\"convertToInteractive('df-2453b32c-1cee-4801-984c-f9fb1d29b966')\"\n",
              "            title=\"Convert this dataframe to an interactive table.\"\n",
              "            style=\"display:none;\">\n",
              "\n",
              "  <svg xmlns=\"http://www.w3.org/2000/svg\" height=\"24px\" viewBox=\"0 -960 960 960\">\n",
              "    <path d=\"M120-120v-720h720v720H120Zm60-500h600v-160H180v160Zm220 220h160v-160H400v160Zm0 220h160v-160H400v160ZM180-400h160v-160H180v160Zm440 0h160v-160H620v160ZM180-180h160v-160H180v160Zm440 0h160v-160H620v160Z\"/>\n",
              "  </svg>\n",
              "    </button>\n",
              "\n",
              "  <style>\n",
              "    .colab-df-container {\n",
              "      display:flex;\n",
              "      gap: 12px;\n",
              "    }\n",
              "\n",
              "    .colab-df-convert {\n",
              "      background-color: #E8F0FE;\n",
              "      border: none;\n",
              "      border-radius: 50%;\n",
              "      cursor: pointer;\n",
              "      display: none;\n",
              "      fill: #1967D2;\n",
              "      height: 32px;\n",
              "      padding: 0 0 0 0;\n",
              "      width: 32px;\n",
              "    }\n",
              "\n",
              "    .colab-df-convert:hover {\n",
              "      background-color: #E2EBFA;\n",
              "      box-shadow: 0px 1px 2px rgba(60, 64, 67, 0.3), 0px 1px 3px 1px rgba(60, 64, 67, 0.15);\n",
              "      fill: #174EA6;\n",
              "    }\n",
              "\n",
              "    .colab-df-buttons div {\n",
              "      margin-bottom: 4px;\n",
              "    }\n",
              "\n",
              "    [theme=dark] .colab-df-convert {\n",
              "      background-color: #3B4455;\n",
              "      fill: #D2E3FC;\n",
              "    }\n",
              "\n",
              "    [theme=dark] .colab-df-convert:hover {\n",
              "      background-color: #434B5C;\n",
              "      box-shadow: 0px 1px 3px 1px rgba(0, 0, 0, 0.15);\n",
              "      filter: drop-shadow(0px 1px 2px rgba(0, 0, 0, 0.3));\n",
              "      fill: #FFFFFF;\n",
              "    }\n",
              "  </style>\n",
              "\n",
              "    <script>\n",
              "      const buttonEl =\n",
              "        document.querySelector('#df-2453b32c-1cee-4801-984c-f9fb1d29b966 button.colab-df-convert');\n",
              "      buttonEl.style.display =\n",
              "        google.colab.kernel.accessAllowed ? 'block' : 'none';\n",
              "\n",
              "      async function convertToInteractive(key) {\n",
              "        const element = document.querySelector('#df-2453b32c-1cee-4801-984c-f9fb1d29b966');\n",
              "        const dataTable =\n",
              "          await google.colab.kernel.invokeFunction('convertToInteractive',\n",
              "                                                    [key], {});\n",
              "        if (!dataTable) return;\n",
              "\n",
              "        const docLinkHtml = 'Like what you see? Visit the ' +\n",
              "          '<a target=\"_blank\" href=https://colab.research.google.com/notebooks/data_table.ipynb>data table notebook</a>'\n",
              "          + ' to learn more about interactive tables.';\n",
              "        element.innerHTML = '';\n",
              "        dataTable['output_type'] = 'display_data';\n",
              "        await google.colab.output.renderOutput(dataTable, element);\n",
              "        const docLink = document.createElement('div');\n",
              "        docLink.innerHTML = docLinkHtml;\n",
              "        element.appendChild(docLink);\n",
              "      }\n",
              "    </script>\n",
              "  </div>\n",
              "\n",
              "\n",
              "<div id=\"df-2345d734-37f2-42ec-a7db-b8d020ceba71\">\n",
              "  <button class=\"colab-df-quickchart\" onclick=\"quickchart('df-2345d734-37f2-42ec-a7db-b8d020ceba71')\"\n",
              "            title=\"Suggest charts\"\n",
              "            style=\"display:none;\">\n",
              "\n",
              "<svg xmlns=\"http://www.w3.org/2000/svg\" height=\"24px\"viewBox=\"0 0 24 24\"\n",
              "     width=\"24px\">\n",
              "    <g>\n",
              "        <path d=\"M19 3H5c-1.1 0-2 .9-2 2v14c0 1.1.9 2 2 2h14c1.1 0 2-.9 2-2V5c0-1.1-.9-2-2-2zM9 17H7v-7h2v7zm4 0h-2V7h2v10zm4 0h-2v-4h2v4z\"/>\n",
              "    </g>\n",
              "</svg>\n",
              "  </button>\n",
              "\n",
              "<style>\n",
              "  .colab-df-quickchart {\n",
              "      --bg-color: #E8F0FE;\n",
              "      --fill-color: #1967D2;\n",
              "      --hover-bg-color: #E2EBFA;\n",
              "      --hover-fill-color: #174EA6;\n",
              "      --disabled-fill-color: #AAA;\n",
              "      --disabled-bg-color: #DDD;\n",
              "  }\n",
              "\n",
              "  [theme=dark] .colab-df-quickchart {\n",
              "      --bg-color: #3B4455;\n",
              "      --fill-color: #D2E3FC;\n",
              "      --hover-bg-color: #434B5C;\n",
              "      --hover-fill-color: #FFFFFF;\n",
              "      --disabled-bg-color: #3B4455;\n",
              "      --disabled-fill-color: #666;\n",
              "  }\n",
              "\n",
              "  .colab-df-quickchart {\n",
              "    background-color: var(--bg-color);\n",
              "    border: none;\n",
              "    border-radius: 50%;\n",
              "    cursor: pointer;\n",
              "    display: none;\n",
              "    fill: var(--fill-color);\n",
              "    height: 32px;\n",
              "    padding: 0;\n",
              "    width: 32px;\n",
              "  }\n",
              "\n",
              "  .colab-df-quickchart:hover {\n",
              "    background-color: var(--hover-bg-color);\n",
              "    box-shadow: 0 1px 2px rgba(60, 64, 67, 0.3), 0 1px 3px 1px rgba(60, 64, 67, 0.15);\n",
              "    fill: var(--button-hover-fill-color);\n",
              "  }\n",
              "\n",
              "  .colab-df-quickchart-complete:disabled,\n",
              "  .colab-df-quickchart-complete:disabled:hover {\n",
              "    background-color: var(--disabled-bg-color);\n",
              "    fill: var(--disabled-fill-color);\n",
              "    box-shadow: none;\n",
              "  }\n",
              "\n",
              "  .colab-df-spinner {\n",
              "    border: 2px solid var(--fill-color);\n",
              "    border-color: transparent;\n",
              "    border-bottom-color: var(--fill-color);\n",
              "    animation:\n",
              "      spin 1s steps(1) infinite;\n",
              "  }\n",
              "\n",
              "  @keyframes spin {\n",
              "    0% {\n",
              "      border-color: transparent;\n",
              "      border-bottom-color: var(--fill-color);\n",
              "      border-left-color: var(--fill-color);\n",
              "    }\n",
              "    20% {\n",
              "      border-color: transparent;\n",
              "      border-left-color: var(--fill-color);\n",
              "      border-top-color: var(--fill-color);\n",
              "    }\n",
              "    30% {\n",
              "      border-color: transparent;\n",
              "      border-left-color: var(--fill-color);\n",
              "      border-top-color: var(--fill-color);\n",
              "      border-right-color: var(--fill-color);\n",
              "    }\n",
              "    40% {\n",
              "      border-color: transparent;\n",
              "      border-right-color: var(--fill-color);\n",
              "      border-top-color: var(--fill-color);\n",
              "    }\n",
              "    60% {\n",
              "      border-color: transparent;\n",
              "      border-right-color: var(--fill-color);\n",
              "    }\n",
              "    80% {\n",
              "      border-color: transparent;\n",
              "      border-right-color: var(--fill-color);\n",
              "      border-bottom-color: var(--fill-color);\n",
              "    }\n",
              "    90% {\n",
              "      border-color: transparent;\n",
              "      border-bottom-color: var(--fill-color);\n",
              "    }\n",
              "  }\n",
              "</style>\n",
              "\n",
              "  <script>\n",
              "    async function quickchart(key) {\n",
              "      const quickchartButtonEl =\n",
              "        document.querySelector('#' + key + ' button');\n",
              "      quickchartButtonEl.disabled = true;  // To prevent multiple clicks.\n",
              "      quickchartButtonEl.classList.add('colab-df-spinner');\n",
              "      try {\n",
              "        const charts = await google.colab.kernel.invokeFunction(\n",
              "            'suggestCharts', [key], {});\n",
              "      } catch (error) {\n",
              "        console.error('Error during call to suggestCharts:', error);\n",
              "      }\n",
              "      quickchartButtonEl.classList.remove('colab-df-spinner');\n",
              "      quickchartButtonEl.classList.add('colab-df-quickchart-complete');\n",
              "    }\n",
              "    (() => {\n",
              "      let quickchartButtonEl =\n",
              "        document.querySelector('#df-2345d734-37f2-42ec-a7db-b8d020ceba71 button');\n",
              "      quickchartButtonEl.style.display =\n",
              "        google.colab.kernel.accessAllowed ? 'block' : 'none';\n",
              "    })();\n",
              "  </script>\n",
              "</div>\n",
              "    </div>\n",
              "  </div>\n"
            ]
          },
          "metadata": {},
          "execution_count": 200
        }
      ],
      "source": [
        "train_df.describe() # measures about the data"
      ]
    },
    {
      "cell_type": "code",
      "execution_count": 201,
      "metadata": {
        "colab": {
          "base_uri": "https://localhost:8080/"
        },
        "id": "i6H_BDXhaUt8",
        "outputId": "ab1c5458-0bd8-4f3f-d306-90fb1577b3e7"
      },
      "outputs": [
        {
          "output_type": "execute_result",
          "data": {
            "text/plain": [
              "ID                          100000\n",
              "Customer_ID                  12500\n",
              "Month                            8\n",
              "Name                         10139\n",
              "Age                           1788\n",
              "SSN                          12501\n",
              "Occupation                      16\n",
              "Annual_Income                18940\n",
              "Monthly_Inhand_Salary        13235\n",
              "Num_Bank_Accounts              943\n",
              "Num_Credit_Card               1179\n",
              "Interest_Rate                 1750\n",
              "Num_of_Loan                    434\n",
              "Type_of_Loan                  6260\n",
              "Delay_from_due_date             73\n",
              "Num_of_Delayed_Payment         749\n",
              "Changed_Credit_Limit          3635\n",
              "Num_Credit_Inquiries          1223\n",
              "Credit_Mix                       4\n",
              "Outstanding_Debt             13178\n",
              "Credit_Utilization_Ratio     99998\n",
              "Credit_History_Age             404\n",
              "Payment_of_Min_Amount            3\n",
              "Total_EMI_per_month          14950\n",
              "Amount_invested_monthly      91049\n",
              "Payment_Behaviour                7\n",
              "Monthly_Balance              98790\n",
              "Credit_Score                     3\n",
              "dtype: int64"
            ]
          },
          "metadata": {},
          "execution_count": 201
        }
      ],
      "source": [
        "train_df.nunique() #unique values"
      ]
    },
    {
      "cell_type": "code",
      "execution_count": 202,
      "metadata": {
        "id": "EgL4IaJfafcs",
        "colab": {
          "base_uri": "https://localhost:8080/"
        },
        "outputId": "d4f8ff54-fa56-42f2-a856-26faed9ae179"
      },
      "outputs": [
        {
          "output_type": "stream",
          "name": "stdout",
          "text": [
            "<class 'pandas.core.frame.DataFrame'>\n",
            "RangeIndex: 100000 entries, 0 to 99999\n",
            "Data columns (total 28 columns):\n",
            " #   Column                    Non-Null Count   Dtype  \n",
            "---  ------                    --------------   -----  \n",
            " 0   ID                        100000 non-null  object \n",
            " 1   Customer_ID               100000 non-null  object \n",
            " 2   Month                     100000 non-null  object \n",
            " 3   Name                      90015 non-null   object \n",
            " 4   Age                       100000 non-null  object \n",
            " 5   SSN                       100000 non-null  object \n",
            " 6   Occupation                100000 non-null  object \n",
            " 7   Annual_Income             100000 non-null  object \n",
            " 8   Monthly_Inhand_Salary     84998 non-null   float64\n",
            " 9   Num_Bank_Accounts         100000 non-null  int64  \n",
            " 10  Num_Credit_Card           100000 non-null  int64  \n",
            " 11  Interest_Rate             100000 non-null  int64  \n",
            " 12  Num_of_Loan               100000 non-null  object \n",
            " 13  Type_of_Loan              88592 non-null   object \n",
            " 14  Delay_from_due_date       100000 non-null  int64  \n",
            " 15  Num_of_Delayed_Payment    92998 non-null   object \n",
            " 16  Changed_Credit_Limit      100000 non-null  object \n",
            " 17  Num_Credit_Inquiries      98035 non-null   float64\n",
            " 18  Credit_Mix                100000 non-null  object \n",
            " 19  Outstanding_Debt          100000 non-null  object \n",
            " 20  Credit_Utilization_Ratio  100000 non-null  float64\n",
            " 21  Credit_History_Age        90970 non-null   object \n",
            " 22  Payment_of_Min_Amount     100000 non-null  object \n",
            " 23  Total_EMI_per_month       100000 non-null  float64\n",
            " 24  Amount_invested_monthly   95521 non-null   object \n",
            " 25  Payment_Behaviour         100000 non-null  object \n",
            " 26  Monthly_Balance           98800 non-null   object \n",
            " 27  Credit_Score              100000 non-null  object \n",
            "dtypes: float64(4), int64(4), object(20)\n",
            "memory usage: 21.4+ MB\n"
          ]
        }
      ],
      "source": [
        "train_df.info() #information about the data"
      ]
    },
    {
      "cell_type": "code",
      "execution_count": 203,
      "metadata": {
        "colab": {
          "base_uri": "https://localhost:8080/"
        },
        "id": "TTKyHBW-avs0",
        "outputId": "a9a56b38-220c-48c8-bea8-12d618363818"
      },
      "outputs": [
        {
          "output_type": "execute_result",
          "data": {
            "text/plain": [
              "ID                              0\n",
              "Customer_ID                     0\n",
              "Month                           0\n",
              "Name                         9985\n",
              "Age                             0\n",
              "SSN                             0\n",
              "Occupation                      0\n",
              "Annual_Income                   0\n",
              "Monthly_Inhand_Salary       15002\n",
              "Num_Bank_Accounts               0\n",
              "Num_Credit_Card                 0\n",
              "Interest_Rate                   0\n",
              "Num_of_Loan                     0\n",
              "Type_of_Loan                11408\n",
              "Delay_from_due_date             0\n",
              "Num_of_Delayed_Payment       7002\n",
              "Changed_Credit_Limit            0\n",
              "Num_Credit_Inquiries         1965\n",
              "Credit_Mix                      0\n",
              "Outstanding_Debt                0\n",
              "Credit_Utilization_Ratio        0\n",
              "Credit_History_Age           9030\n",
              "Payment_of_Min_Amount           0\n",
              "Total_EMI_per_month             0\n",
              "Amount_invested_monthly      4479\n",
              "Payment_Behaviour               0\n",
              "Monthly_Balance              1200\n",
              "Credit_Score                    0\n",
              "dtype: int64"
            ]
          },
          "metadata": {},
          "execution_count": 203
        }
      ],
      "source": [
        "train_df.isna().sum()"
      ]
    },
    {
      "cell_type": "code",
      "execution_count": 204,
      "metadata": {
        "colab": {
          "base_uri": "https://localhost:8080/"
        },
        "id": "dFOC0k7VE1cC",
        "outputId": "8ffdfe06-14c4-4b0a-8623-5e3c080ddb90"
      },
      "outputs": [
        {
          "output_type": "execute_result",
          "data": {
            "text/plain": [
              "ID                           object\n",
              "Customer_ID                  object\n",
              "Month                        object\n",
              "Name                         object\n",
              "Age                          object\n",
              "SSN                          object\n",
              "Occupation                   object\n",
              "Annual_Income                object\n",
              "Monthly_Inhand_Salary       float64\n",
              "Num_Bank_Accounts             int64\n",
              "Num_Credit_Card               int64\n",
              "Interest_Rate                 int64\n",
              "Num_of_Loan                  object\n",
              "Type_of_Loan                 object\n",
              "Delay_from_due_date           int64\n",
              "Num_of_Delayed_Payment       object\n",
              "Changed_Credit_Limit         object\n",
              "Num_Credit_Inquiries        float64\n",
              "Credit_Mix                   object\n",
              "Outstanding_Debt             object\n",
              "Credit_Utilization_Ratio    float64\n",
              "Credit_History_Age           object\n",
              "Payment_of_Min_Amount        object\n",
              "Total_EMI_per_month         float64\n",
              "Amount_invested_monthly      object\n",
              "Payment_Behaviour            object\n",
              "Monthly_Balance              object\n",
              "Credit_Score                 object\n",
              "dtype: object"
            ]
          },
          "metadata": {},
          "execution_count": 204
        }
      ],
      "source": [
        "train_df.dtypes"
      ]
    },
    {
      "cell_type": "code",
      "execution_count": 205,
      "metadata": {
        "colab": {
          "base_uri": "https://localhost:8080/"
        },
        "id": "3yH9Dh6sb5l1",
        "outputId": "5112e626-61f8-4975-f8b7-0ff3aba10d09"
      },
      "outputs": [
        {
          "output_type": "stream",
          "name": "stdout",
          "text": [
            "(100000, 28)\n"
          ]
        }
      ],
      "source": [
        "train_df.drop_duplicates(keep = 'first', inplace = True) #Checking the Duplicates\n",
        "print(train_df.shape)"
      ]
    },
    {
      "cell_type": "code",
      "execution_count": 206,
      "metadata": {
        "colab": {
          "base_uri": "https://localhost:8080/"
        },
        "id": "37Mi9i0cctb2",
        "outputId": "bbae1e1d-4fe5-42eb-bc6c-6f597c02688b"
      },
      "outputs": [
        {
          "output_type": "execute_result",
          "data": {
            "text/plain": [
              "Index(['ID', 'Customer_ID', 'Month', 'Name', 'Age', 'SSN', 'Occupation',\n",
              "       'Annual_Income', 'Monthly_Inhand_Salary', 'Num_Bank_Accounts',\n",
              "       'Num_Credit_Card', 'Interest_Rate', 'Num_of_Loan', 'Type_of_Loan',\n",
              "       'Delay_from_due_date', 'Num_of_Delayed_Payment', 'Changed_Credit_Limit',\n",
              "       'Num_Credit_Inquiries', 'Credit_Mix', 'Outstanding_Debt',\n",
              "       'Credit_Utilization_Ratio', 'Credit_History_Age',\n",
              "       'Payment_of_Min_Amount', 'Total_EMI_per_month',\n",
              "       'Amount_invested_monthly', 'Payment_Behaviour', 'Monthly_Balance',\n",
              "       'Credit_Score'],\n",
              "      dtype='object')"
            ]
          },
          "metadata": {},
          "execution_count": 206
        }
      ],
      "source": [
        "train_df.columns"
      ]
    },
    {
      "cell_type": "markdown",
      "metadata": {
        "id": "A9L5NoaRcvRc"
      },
      "source": [
        "**Data Analysis**"
      ]
    },
    {
      "cell_type": "code",
      "execution_count": 207,
      "metadata": {
        "colab": {
          "base_uri": "https://localhost:8080/"
        },
        "id": "cbhwb0jMc8FF",
        "outputId": "f0b495ca-0a93-497c-e9b5-d4b54e28ec4e"
      },
      "outputs": [
        {
          "output_type": "stream",
          "name": "stdout",
          "text": [
            "ID       Customer_ID  Month     Name            Age  SSN          Occupation     Annual_Income  Monthly_Inhand_Salary  Num_Bank_Accounts  Num_Credit_Card  Interest_Rate  Num_of_Loan  Type_of_Loan                                                                                                    Delay_from_due_date  Num_of_Delayed_Payment  Changed_Credit_Limit  Num_Credit_Inquiries  Credit_Mix  Outstanding_Debt  Credit_Utilization_Ratio  Credit_History_Age      Payment_of_Min_Amount  Total_EMI_per_month  Amount_invested_monthly  Payment_Behaviour                 Monthly_Balance  Credit_Score\n",
            "0x10003  CUS_0x54c3   February  Kwoka           28   764-29-3740  Engineer       18354.805      1457.567083            0                  3                8              1            Personal Loan                                                                                                   24                   7                       5.85                  4.0                   Good        863.63            27.107416                 17 Years and 3 Months   No                     13.915906            __10000__                Low_spent_Large_value_payments    303.0776702      Poor            1\n",
            "0x3c9c   CUS_0xa090   July      Camposn         36   301-85-8354  Engineer       9158.03        822.124562             7                  9                27             2            Debt Consolidation Loan, and Credit-Builder Loan                                                                57                   22                      1.19                  9.0                   _           2495.15           34.494059                 13 Years and 4 Months   Yes                    54.263164            72.07943359              !@9#%8                            281.018924       Standard        1\n",
            "0x3c85   CUS_0xb0e4   August    Niak            55   022-68-0160  Media_Manager  43307.12       3864.926667            0                  4                12             3            Personal Loan, Not Specified, and Payday Loan                                                                   3                    10                      0.95                  6.0                   Good        301.82            37.046972                 24 Years and 2 Months   No                     63.521649            156.3757477              High_spent_Medium_value_payments  416.5952695      Standard        1\n",
            "0x3c8c   CUS_0x89ca   March     Sheppardx       25   #F%$D@*&8    Journalist     45002.48       3485.206667            4                  7                2              1            Student Loan                                                                                                    29                   17                      0.65                  0.0                   Standard    1221.95           29.531526                 17 Years and 11 Months  No                     26.130189            100.8718689              High_spent_Medium_value_payments  471.5186085      Standard        1\n",
            "0x3c8d   CUS_0x89ca   April     Sheppardx       26   152-28-1148  Journalist     45002.48       3485.206667            4                  7                2              1            Student Loan                                                                                                    30                   14                      2.65                  0.0                   Standard    1221.95           26.772677                 18 Years and 0 Months   No                     26.130189            97.40146465              Low_spent_Medium_value_payments   504.9890127      Standard        1\n",
            "                                                                                                                                                                                                                                                                                                                                                                                                                                                                                                                                                                                                                       ..\n",
            "0x1bc68  CUS_0x82c2   March     Edl             51   044-29-7570  Entrepreneur   31151.46       2479.955000            0                  3                9              3            Payday Loan, Personal Loan, and Payday Loan                                                                     7                    6                       10.47                 5.0                   _           62.17             26.844045                 15 Years and 9 Months   No                     42.494853            98.69217289              High_spent_Medium_value_payments  356.8084745      Standard        1\n",
            "0x1bc6c  CUS_0x82c2   July      Edl             51   044-29-7570  Entrepreneur   31151.46       2479.955000            0                  3                9              3            Payday Loan, Personal Loan, and Payday Loan                                                                     7                    6                       10.47                 5.0                   Good        62.17             36.918903                 16 Years and 1 Months   No                     18485.000000         49.68275592              High_spent_Small_value_payments   415.8178914      Poor            1\n",
            "0x1bc6d  CUS_0x82c2   August    Edl             51   044-29-7570  Entrepreneur   31151.46       2479.955000            0                  3                9              3            Payday Loan, Personal Loan, and Payday Loan                                                                     7                    6                       10.47                 5.0                   Good        62.17             34.164137                 16 Years and 2 Months   No                     42.494853            90.69369116              High_spent_Medium_value_payments  364.8069562      Poor            1\n",
            "0x1bc7e  CUS_0x1499   January   Guptaj          49   440-22-8350  _______        100887.72      8271.310000            5                  7                19             4            Credit-Builder Loan, Home Equity Loan, Not Specified, and Payday Loan                                           14                   14                      17.92                 0.0                   Standard    491.35            37.145699                 19 Years and 10 Months  No                     257.336356           205.1059141              Low_spent_Large_value_payments    634.6887298      Standard        1\n",
            "0xfffb   CUS_0x1a4b   June      Denis Pinchuke  23   490-54-0863  Doctor         19958.32       1411.193333            6                  7                26             -100         Auto Loan, Student Loan, Home Equity Loan, Payday Loan, Payday Loan, Student Loan, and Debt Consolidation Loan  52                   25_                     1.9                   6.0                   Bad         4753.48           35.349975                 4 Years and 9 Months    Yes                    94.810429            48.63739475              Low_spent_Small_value_payments    287.6715092      Poor            1\n",
            "Length: 53049, dtype: int64\n"
          ]
        }
      ],
      "source": [
        "print(train_df.value_counts())"
      ]
    },
    {
      "cell_type": "code",
      "execution_count": 208,
      "metadata": {
        "colab": {
          "base_uri": "https://localhost:8080/"
        },
        "id": "oGtaPhUudKjl",
        "outputId": "9b914e96-e283-4e1e-bea0-bca9871013de"
      },
      "outputs": [
        {
          "output_type": "execute_result",
          "data": {
            "text/plain": [
              "Standard    53174\n",
              "Poor        28998\n",
              "Good        17828\n",
              "Name: Credit_Score, dtype: int64"
            ]
          },
          "metadata": {},
          "execution_count": 208
        }
      ],
      "source": [
        "train_df['Credit_Score'].value_counts()"
      ]
    },
    {
      "cell_type": "code",
      "execution_count": 209,
      "metadata": {
        "colab": {
          "base_uri": "https://localhost:8080/",
          "height": 467
        },
        "id": "wvljPmFOdflf",
        "outputId": "b5fefc57-c90d-4f1e-dd02-6d9933450451"
      },
      "outputs": [
        {
          "output_type": "execute_result",
          "data": {
            "text/plain": [
              "<Axes: xlabel='Credit_Score', ylabel='Count'>"
            ]
          },
          "metadata": {},
          "execution_count": 209
        },
        {
          "output_type": "display_data",
          "data": {
            "text/plain": [
              "<Figure size 640x480 with 1 Axes>"
            ],
            "image/png": "[encoded data removed]"
          },
          "metadata": {}
        }
      ],
      "source": [
        "sns.histplot(train_df.Credit_Score)"
      ]
    },
    {
      "cell_type": "code",
      "execution_count": 210,
      "metadata": {
        "colab": {
          "base_uri": "https://localhost:8080/"
        },
        "id": "seW7hDWQd7YM",
        "outputId": "2d857d47-701f-4bc2-fc7d-d563e4f59465"
      },
      "outputs": [
        {
          "output_type": "execute_result",
          "data": {
            "text/plain": [
              "(100000, 22)"
            ]
          },
          "metadata": {},
          "execution_count": 210
        }
      ],
      "source": [
        "train_df1 = train_df.drop(['ID', 'Customer_ID', 'Type_of_Loan', 'Month', 'Name', 'SSN'], axis=1)\n",
        "train_df1.shape"
      ]
    },
    {
      "cell_type": "code",
      "execution_count": 211,
      "metadata": {
        "colab": {
          "base_uri": "https://localhost:8080/"
        },
        "id": "n0r6u5QOeB_8",
        "outputId": "3d491afe-fa83-4f0e-e12e-ae3a495b85c4"
      },
      "outputs": [
        {
          "output_type": "execute_result",
          "data": {
            "text/plain": [
              "Index(['Age', 'Occupation', 'Annual_Income', 'Monthly_Inhand_Salary',\n",
              "       'Num_Bank_Accounts', 'Num_Credit_Card', 'Interest_Rate', 'Num_of_Loan',\n",
              "       'Delay_from_due_date', 'Num_of_Delayed_Payment', 'Changed_Credit_Limit',\n",
              "       'Num_Credit_Inquiries', 'Credit_Mix', 'Outstanding_Debt',\n",
              "       'Credit_Utilization_Ratio', 'Credit_History_Age',\n",
              "       'Payment_of_Min_Amount', 'Total_EMI_per_month',\n",
              "       'Amount_invested_monthly', 'Payment_Behaviour', 'Monthly_Balance',\n",
              "       'Credit_Score'],\n",
              "      dtype='object')"
            ]
          },
          "metadata": {},
          "execution_count": 211
        }
      ],
      "source": [
        "train_df1.columns"
      ]
    },
    {
      "cell_type": "code",
      "execution_count": 212,
      "metadata": {
        "id": "GpYRVConehWE"
      },
      "outputs": [],
      "source": [
        "train_df1 = train_df1.applymap(\n",
        "  lambda x: x if x is np.NaN or not \\\n",
        "    isinstance(x, str) else str(x).strip('_')).replace(['', 'nan', '!@9#%8', '#F%$D@*&8'], np.NaN)"
      ]
    },
    {
      "cell_type": "code",
      "execution_count": 213,
      "metadata": {
        "id": "ekcTmRs0eS7X"
      },
      "outputs": [],
      "source": [
        "#Conveting the astypes of the columns\n",
        "train_df1['Age'] = train_df1['Age'].astype(int)\n",
        "train_df1['Annual_Income'] = train_df1['Annual_Income'].astype(float)\n",
        "train_df1['Num_of_Loan'] = train_df1['Num_of_Loan'].astype(int)\n",
        "train_df1['Num_of_Delayed_Payment'] = train_df1['Num_of_Delayed_Payment'].astype(float)\n",
        "train_df1['Changed_Credit_Limit'] = train_df1['Changed_Credit_Limit'].astype(float)\n",
        "train_df1['Outstanding_Debt'] = train_df1['Outstanding_Debt'].astype(float)\n",
        "train_df1['Amount_invested_monthly'] = train_df1['Amount_invested_monthly'].astype(float)\n",
        "train_df1['Monthly_Balance'] = train_df1['Monthly_Balance'].astype(float)"
      ]
    },
    {
      "cell_type": "code",
      "execution_count": 214,
      "metadata": {
        "id": "DNDPGwRHeo-E"
      },
      "outputs": [],
      "source": [
        "def take_years(x):\n",
        "    if x is not None:\n",
        "        return str(x).strip()[0:2]\n",
        "\n",
        "train_df1['Credit_History_Age']=train_df1['Credit_History_Age'].apply(take_years)\n",
        "train_df1['Credit_History_Age'] = train_df1['Credit_History_Age'].replace({'na': np.NaN})"
      ]
    },
    {
      "cell_type": "code",
      "execution_count": 215,
      "metadata": {
        "id": "X94UgeM8e4uF"
      },
      "outputs": [],
      "source": [
        "#Converting the object into Category\n",
        "cat_cols = train_df1.select_dtypes(include='object').columns\n",
        "for col in cat_cols:\n",
        "    train_df1[col] = train_df1[col].astype('category')"
      ]
    },
    {
      "cell_type": "markdown",
      "metadata": {
        "id": "LtbNIkclf3TP"
      },
      "source": [
        "Dividing the Category and Number columns"
      ]
    },
    {
      "cell_type": "code",
      "execution_count": 216,
      "metadata": {
        "id": "b9axrPV9fIrG"
      },
      "outputs": [],
      "source": [
        "num_columns = ['Age', 'Annual_Income', 'Monthly_Inhand_Salary', 'Num_Bank_Accounts',\n",
        "            'Num_Credit_Card', 'Interest_Rate', 'Num_of_Loan', 'Delay_from_due_date',\n",
        "            'Num_of_Delayed_Payment', 'Changed_Credit_Limit','Num_Credit_Inquiries',\n",
        "            'Outstanding_Debt', 'Credit_Utilization_Ratio', 'Credit_History_Age',\n",
        "            'Total_EMI_per_month', 'Amount_invested_monthly', 'Monthly_Balance', ]"
      ]
    },
    {
      "cell_type": "code",
      "execution_count": 217,
      "metadata": {
        "id": "plkHmKNhfZc0"
      },
      "outputs": [],
      "source": [
        "cat_columns = ['Occupation', 'Credit_Mix', 'Payment_of_Min_Amount', 'Payment_Behaviour']"
      ]
    },
    {
      "cell_type": "markdown",
      "metadata": {
        "id": "dpM5nCuagLV3"
      },
      "source": [
        "**Splitting the training data & Test data**"
      ]
    },
    {
      "cell_type": "code",
      "execution_count": 218,
      "metadata": {
        "id": "yyONg1-9gSXz"
      },
      "outputs": [],
      "source": [
        "#Separating features & Target\n",
        "X = train_df1.drop(['Credit_Score'], axis = 1)\n",
        "y = train_df1['Credit_Score']"
      ]
    },
    {
      "cell_type": "code",
      "execution_count": 219,
      "metadata": {
        "id": "qLfBy8yQg2Dc"
      },
      "outputs": [],
      "source": [
        "X_train, X_test, y_train, y_test = train_test_split(X,y, test_size = 0.30, random_state = 100)"
      ]
    },
    {
      "cell_type": "code",
      "execution_count": 220,
      "metadata": {
        "colab": {
          "base_uri": "https://localhost:8080/"
        },
        "id": "ZkIp8qgRhVjM",
        "outputId": "c41e2fda-6062-4f2d-9b78-57b0d0621b40"
      },
      "outputs": [
        {
          "output_type": "stream",
          "name": "stdout",
          "text": [
            "(70000, 21)\n",
            "(30000,)\n"
          ]
        }
      ],
      "source": [
        "print(X_train.shape)\n",
        "print(y_test.shape)"
      ]
    },
    {
      "cell_type": "code",
      "execution_count": 221,
      "metadata": {
        "colab": {
          "base_uri": "https://localhost:8080/"
        },
        "id": "ppgfE4bHhgbU",
        "outputId": "8353a8d6-582b-401f-bfd4-cc3aa10398a5"
      },
      "outputs": [
        {
          "output_type": "stream",
          "name": "stdout",
          "text": [
            "(30000, 21)\n",
            "(70000,)\n"
          ]
        }
      ],
      "source": [
        "print(X_test.shape)\n",
        "print(y_train.shape)"
      ]
    },
    {
      "cell_type": "code",
      "execution_count": 222,
      "metadata": {
        "colab": {
          "base_uri": "https://localhost:8080/"
        },
        "id": "WqnI-0Y1hjve",
        "outputId": "de135e2f-47dd-4cf2-8655-b150605ebb49"
      },
      "outputs": [
        {
          "output_type": "execute_result",
          "data": {
            "text/plain": [
              "Standard    53.235714\n",
              "Poor        28.925714\n",
              "Good        17.838571\n",
              "Name: Credit_Score, dtype: float64"
            ]
          },
          "metadata": {},
          "execution_count": 222
        }
      ],
      "source": [
        "y_train.value_counts(normalize = True)*100\n"
      ]
    },
    {
      "cell_type": "code",
      "execution_count": 223,
      "metadata": {
        "colab": {
          "base_uri": "https://localhost:8080/"
        },
        "id": "3gavxoRzm-KM",
        "outputId": "2b3c7237-4d2a-4679-b87f-078337bc7bb5"
      },
      "outputs": [
        {
          "output_type": "execute_result",
          "data": {
            "text/plain": [
              "Standard    53.030000\n",
              "Poor        29.166667\n",
              "Good        17.803333\n",
              "Name: Credit_Score, dtype: float64"
            ]
          },
          "metadata": {},
          "execution_count": 223
        }
      ],
      "source": [
        "y_test.value_counts(normalize = True)*100"
      ]
    },
    {
      "cell_type": "code",
      "execution_count": 224,
      "metadata": {
        "colab": {
          "base_uri": "https://localhost:8080/"
        },
        "id": "YnboA9Kdh4BV",
        "outputId": "b584da84-188f-4634-ae6e-52e35585a37c"
      },
      "outputs": [
        {
          "output_type": "stream",
          "name": "stdout",
          "text": [
            "(70000, 17)\n",
            "(30000, 17)\n"
          ]
        }
      ],
      "source": [
        "df_num_train = X_train[num_columns]\n",
        "df_num_test = X_test[num_columns]\n",
        "print(df_num_train.shape)\n",
        "print(df_num_test.shape)"
      ]
    },
    {
      "cell_type": "code",
      "execution_count": 225,
      "metadata": {
        "colab": {
          "base_uri": "https://localhost:8080/"
        },
        "id": "vKoqWf4eh43k",
        "outputId": "5398d2a4-e28c-4760-dd9c-335fe3ba1b29"
      },
      "outputs": [
        {
          "output_type": "stream",
          "name": "stdout",
          "text": [
            "(70000, 4)\n",
            "(30000, 4)\n"
          ]
        }
      ],
      "source": [
        "df_cat_train = X_train[cat_columns]\n",
        "df_cat_test = X_test[cat_columns]\n",
        "print(df_cat_train.shape)\n",
        "print(df_cat_test.shape)"
      ]
    },
    {
      "cell_type": "markdown",
      "metadata": {
        "id": "8DaVEUITlXa4"
      },
      "source": [
        "**Handling the Missing values**"
      ]
    },
    {
      "cell_type": "code",
      "execution_count": 226,
      "metadata": {
        "colab": {
          "base_uri": "https://localhost:8080/"
        },
        "id": "Iijzf7CNlaZD",
        "outputId": "1ac74f2a-baa1-4e1f-e278-f382288395c1"
      },
      "outputs": [
        {
          "output_type": "stream",
          "name": "stdout",
          "text": [
            "(70000, 4)\n",
            "(30000, 4)\n"
          ]
        }
      ],
      "source": [
        "cat_imp = SimpleImputer(strategy = 'most_frequent')\n",
        "cat_imp.fit(df_cat_train)\n",
        "\n",
        "df_cat_imp_train = pd.DataFrame(cat_imp.transform(df_cat_train), columns = cat_columns)\n",
        "df_cat_imp_test = pd.DataFrame(cat_imp.transform(df_cat_test), columns = cat_columns)\n",
        "print(df_cat_imp_train.shape)\n",
        "print(df_cat_imp_test.shape)"
      ]
    },
    {
      "cell_type": "code",
      "execution_count": 227,
      "metadata": {
        "colab": {
          "base_uri": "https://localhost:8080/"
        },
        "id": "2zmfSoNgnWu0",
        "outputId": "54370b4a-ee09-42c4-dd02-a4920bfe2732"
      },
      "outputs": [
        {
          "output_type": "stream",
          "name": "stdout",
          "text": [
            "Occupation               15\n",
            "Credit_Mix                3\n",
            "Payment_of_Min_Amount     3\n",
            "Payment_Behaviour         6\n",
            "dtype: int64\n"
          ]
        }
      ],
      "source": [
        "print(df_cat_imp_train.nunique())"
      ]
    },
    {
      "cell_type": "code",
      "execution_count": 228,
      "metadata": {
        "colab": {
          "base_uri": "https://localhost:8080/"
        },
        "id": "l-rTppxOnYiE",
        "outputId": "0a82668e-4e8c-4a73-896e-2ad67a9434d9"
      },
      "outputs": [
        {
          "output_type": "stream",
          "name": "stdout",
          "text": [
            "Occupation               0\n",
            "Credit_Mix               0\n",
            "Payment_of_Min_Amount    0\n",
            "Payment_Behaviour        0\n",
            "dtype: int64\n",
            "Occupation               0\n",
            "Credit_Mix               0\n",
            "Payment_of_Min_Amount    0\n",
            "Payment_Behaviour        0\n",
            "dtype: int64\n"
          ]
        }
      ],
      "source": [
        "print(df_cat_imp_train.isna().sum())\n",
        "print(df_cat_imp_test.isna().sum())"
      ]
    },
    {
      "cell_type": "code",
      "execution_count": 229,
      "metadata": {
        "colab": {
          "base_uri": "https://localhost:8080/"
        },
        "id": "Wk3TNBXFnjoc",
        "outputId": "5605567c-21c2-4449-be3b-8da9fe76761a"
      },
      "outputs": [
        {
          "output_type": "stream",
          "name": "stdout",
          "text": [
            "(70000, 17)\n",
            "(30000, 17)\n"
          ]
        }
      ],
      "source": [
        "num_imp = SimpleImputer(strategy = 'median')\n",
        "num_imp.fit(df_num_train)\n",
        "\n",
        "df_num_imp_train = pd.DataFrame(num_imp.transform(df_num_train), columns = num_columns)\n",
        "df_num_imp_test = pd.DataFrame(num_imp.transform(df_num_test), columns = num_columns)\n",
        "print(df_num_imp_train.shape)\n",
        "print(df_num_imp_test.shape)"
      ]
    },
    {
      "cell_type": "code",
      "execution_count": 230,
      "metadata": {
        "colab": {
          "base_uri": "https://localhost:8080/"
        },
        "id": "sgTH704UnhA8",
        "outputId": "717ef32e-fa9c-4862-dd24-95b076d6c92a"
      },
      "outputs": [
        {
          "output_type": "stream",
          "name": "stdout",
          "text": [
            "Age                         0\n",
            "Annual_Income               0\n",
            "Monthly_Inhand_Salary       0\n",
            "Num_Bank_Accounts           0\n",
            "Num_Credit_Card             0\n",
            "Interest_Rate               0\n",
            "Num_of_Loan                 0\n",
            "Delay_from_due_date         0\n",
            "Num_of_Delayed_Payment      0\n",
            "Changed_Credit_Limit        0\n",
            "Num_Credit_Inquiries        0\n",
            "Outstanding_Debt            0\n",
            "Credit_Utilization_Ratio    0\n",
            "Credit_History_Age          0\n",
            "Total_EMI_per_month         0\n",
            "Amount_invested_monthly     0\n",
            "Monthly_Balance             0\n",
            "dtype: int64\n"
          ]
        }
      ],
      "source": [
        "print(df_num_imp_train.isna().sum())\n"
      ]
    },
    {
      "cell_type": "markdown",
      "metadata": {
        "id": "BDDpZNEaoQZb"
      },
      "source": [
        "**Converting the Category**"
      ]
    },
    {
      "cell_type": "code",
      "execution_count": 231,
      "metadata": {
        "colab": {
          "base_uri": "https://localhost:8080/"
        },
        "id": "HZ8s9PqaoThs",
        "outputId": "b75c07e8-132f-4176-a188-b3c03ca269d8"
      },
      "outputs": [
        {
          "output_type": "stream",
          "name": "stdout",
          "text": [
            "(70000, 27)\n",
            "(30000, 27)\n"
          ]
        }
      ],
      "source": [
        "from sklearn.preprocessing import OneHotEncoder\n",
        "ohe = OneHotEncoder(handle_unknown = 'ignore')\n",
        "ohe.fit(df_cat_imp_train)\n",
        "\n",
        "df_cat_imp_train_ohe = ohe.transform(df_cat_imp_train).toarray()\n",
        "df_cat_imp_test_ohe = ohe.transform(df_cat_imp_test).toarray()\n",
        "print(df_cat_imp_train_ohe.shape)\n",
        "print(df_cat_imp_test_ohe.shape)"
      ]
    },
    {
      "cell_type": "code",
      "execution_count": 232,
      "metadata": {
        "colab": {
          "base_uri": "https://localhost:8080/"
        },
        "id": "wOCT2KtPoYWU",
        "outputId": "2988e9e3-e986-43d5-a432-4e90ad062b72"
      },
      "outputs": [
        {
          "output_type": "stream",
          "name": "stdout",
          "text": [
            "(70000, 17)\n",
            "(30000, 17)\n"
          ]
        }
      ],
      "source": [
        "ss = StandardScaler()\n",
        "ss.fit(df_num_imp_train)\n",
        "\n",
        "df_num_imp_train_ss = ss.transform(df_num_imp_train)\n",
        "df_num_imp_test_ss = ss.transform(df_num_imp_test)\n",
        "print(df_num_imp_train_ss.shape)\n",
        "print(df_num_imp_test_ss.shape)"
      ]
    },
    {
      "cell_type": "code",
      "execution_count": 233,
      "metadata": {
        "colab": {
          "base_uri": "https://localhost:8080/"
        },
        "id": "80oOHoBioeeJ",
        "outputId": "5dc4ea04-b7a3-4636-d644-162e64f4cfe1"
      },
      "outputs": [
        {
          "output_type": "execute_result",
          "data": {
            "text/plain": [
              "Standard    37265\n",
              "Poor        20248\n",
              "Good        12487\n",
              "Name: Credit_Score, dtype: int64"
            ]
          },
          "metadata": {},
          "execution_count": 233
        }
      ],
      "source": [
        "y_train.value_counts()"
      ]
    },
    {
      "cell_type": "code",
      "execution_count": 234,
      "metadata": {
        "colab": {
          "base_uri": "https://localhost:8080/"
        },
        "id": "cML_xT04okYS",
        "outputId": "3a19e36d-8ac2-4c6b-ac62-9d4c59082197"
      },
      "outputs": [
        {
          "output_type": "stream",
          "name": "stdout",
          "text": [
            "(70000, 44)\n",
            "(30000, 44)\n"
          ]
        }
      ],
      "source": [
        "X_train_con = np.concatenate([df_cat_imp_train_ohe, df_num_imp_train_ss], axis = 1) #X train converting\n",
        "X_test_con = np.concatenate([df_cat_imp_test_ohe, df_num_imp_test_ss], axis = 1) #X test converting\n",
        "print(X_train_con.shape)\n",
        "print(X_test_con.shape)"
      ]
    },
    {
      "cell_type": "markdown",
      "metadata": {
        "id": "865qpnSKowqj"
      },
      "source": [
        "**Model Training**"
      ]
    },
    {
      "cell_type": "code",
      "execution_count": 235,
      "metadata": {
        "colab": {
          "base_uri": "https://localhost:8080/"
        },
        "id": "rtvx_IIEo1yc",
        "outputId": "7cfe69aa-9704-4b40-c495-f8809a0971c7"
      },
      "outputs": [
        {
          "output_type": "execute_result",
          "data": {
            "text/plain": [
              "0.6233333333333333"
            ]
          },
          "metadata": {},
          "execution_count": 235
        }
      ],
      "source": [
        "#Logistic Regression\n",
        "lr = LogisticRegression()\n",
        "lr.fit(X_train_con,y_train)\n",
        "lr_train_preds = lr.predict(X_train_con)\n",
        "lr_train_preds\n",
        "lr_test_preds = lr.predict(X_test_con)\n",
        "lr_test_preds\n",
        "lr_train_preds_score = lr.score(X_train_con,y_train)\n",
        "lr_train_preds_score\n",
        "lr_test_preds_score = lr.score(X_test_con,y_test)\n",
        "lr_test_preds_score"
      ]
    },
    {
      "cell_type": "code",
      "execution_count": 236,
      "metadata": {
        "colab": {
          "base_uri": "https://localhost:8080/"
        },
        "id": "mL_MUSzcpa28",
        "outputId": "d532fdb2-930f-4c34-b379-090a49e8365c"
      },
      "outputs": [
        {
          "output_type": "execute_result",
          "data": {
            "text/plain": [
              "0.779"
            ]
          },
          "metadata": {},
          "execution_count": 236
        }
      ],
      "source": [
        "#RandomForestClassifier\n",
        "rfc = RandomForestClassifier()\n",
        "rfc.fit(X_train_con,y_train)\n",
        "rfc_train_preds = rfc.predict(X_train_con)\n",
        "rfc_train_preds\n",
        "rfc_test_preds = rfc.predict(X_test_con)\n",
        "rfc_test_preds\n",
        "rfc_test_preds_score = rfc.score(X_test_con,y_test)\n",
        "rfc_test_preds_score"
      ]
    },
    {
      "cell_type": "code",
      "execution_count": 237,
      "metadata": {
        "colab": {
          "base_uri": "https://localhost:8080/",
          "height": 74
        },
        "id": "JMWtwW-TysLy",
        "outputId": "ddc973f2-5985-4f36-873b-5774d873d3c8"
      },
      "outputs": [
        {
          "output_type": "execute_result",
          "data": {
            "text/plain": [
              "KNeighborsClassifier()"
            ],
            "text/html": [
              "<style>#sk-container-id-4 {color: black;background-color: white;}#sk-container-id-4 pre{padding: 0;}#sk-container-id-4 div.sk-toggleable {background-color: white;}#sk-container-id-4 label.sk-toggleable__label {cursor: pointer;display: block;width: 100%;margin-bottom: 0;padding: 0.3em;box-sizing: border-box;text-align: center;}#sk-container-id-4 label.sk-toggleable__label-arrow:before {content: \"▸\";float: left;margin-right: 0.25em;color: #696969;}#sk-container-id-4 label.sk-toggleable__label-arrow:hover:before {color: black;}#sk-container-id-4 div.sk-estimator:hover label.sk-toggleable__label-arrow:before {color: black;}#sk-container-id-4 div.sk-toggleable__content {max-height: 0;max-width: 0;overflow: hidden;text-align: left;background-color: #f0f8ff;}#sk-container-id-4 div.sk-toggleable__content pre {margin: 0.2em;color: black;border-radius: 0.25em;background-color: #f0f8ff;}#sk-container-id-4 input.sk-toggleable__control:checked~div.sk-toggleable__content {max-height: 200px;max-width: 100%;overflow: auto;}#sk-container-id-4 input.sk-toggleable__control:checked~label.sk-toggleable__label-arrow:before {content: \"▾\";}#sk-container-id-4 div.sk-estimator input.sk-toggleable__control:checked~label.sk-toggleable__label {background-color: #d4ebff;}#sk-container-id-4 div.sk-label input.sk-toggleable__control:checked~label.sk-toggleable__label {background-color: #d4ebff;}#sk-container-id-4 input.sk-hidden--visually {border: 0;clip: rect(1px 1px 1px 1px);clip: rect(1px, 1px, 1px, 1px);height: 1px;margin: -1px;overflow: hidden;padding: 0;position: absolute;width: 1px;}#sk-container-id-4 div.sk-estimator {font-family: monospace;background-color: #f0f8ff;border: 1px dotted black;border-radius: 0.25em;box-sizing: border-box;margin-bottom: 0.5em;}#sk-container-id-4 div.sk-estimator:hover {background-color: #d4ebff;}#sk-container-id-4 div.sk-parallel-item::after {content: \"\";width: 100%;border-bottom: 1px solid gray;flex-grow: 1;}#sk-container-id-4 div.sk-label:hover label.sk-toggleable__label {background-color: #d4ebff;}#sk-container-id-4 div.sk-serial::before {content: \"\";position: absolute;border-left: 1px solid gray;box-sizing: border-box;top: 0;bottom: 0;left: 50%;z-index: 0;}#sk-container-id-4 div.sk-serial {display: flex;flex-direction: column;align-items: center;background-color: white;padding-right: 0.2em;padding-left: 0.2em;position: relative;}#sk-container-id-4 div.sk-item {position: relative;z-index: 1;}#sk-container-id-4 div.sk-parallel {display: flex;align-items: stretch;justify-content: center;background-color: white;position: relative;}#sk-container-id-4 div.sk-item::before, #sk-container-id-4 div.sk-parallel-item::before {content: \"\";position: absolute;border-left: 1px solid gray;box-sizing: border-box;top: 0;bottom: 0;left: 50%;z-index: -1;}#sk-container-id-4 div.sk-parallel-item {display: flex;flex-direction: column;z-index: 1;position: relative;background-color: white;}#sk-container-id-4 div.sk-parallel-item:first-child::after {align-self: flex-end;width: 50%;}#sk-container-id-4 div.sk-parallel-item:last-child::after {align-self: flex-start;width: 50%;}#sk-container-id-4 div.sk-parallel-item:only-child::after {width: 0;}#sk-container-id-4 div.sk-dashed-wrapped {border: 1px dashed gray;margin: 0 0.4em 0.5em 0.4em;box-sizing: border-box;padding-bottom: 0.4em;background-color: white;}#sk-container-id-4 div.sk-label label {font-family: monospace;font-weight: bold;display: inline-block;line-height: 1.2em;}#sk-container-id-4 div.sk-label-container {text-align: center;}#sk-container-id-4 div.sk-container {/* jupyter's `normalize.less` sets `[hidden] { display: none; }` but bootstrap.min.css set `[hidden] { display: none !important; }` so we also need the `!important` here to be able to override the default hidden behavior on the sphinx rendered scikit-learn.org. See: https://github.com/scikit-learn/scikit-learn/issues/21755 */display: inline-block !important;position: relative;}#sk-container-id-4 div.sk-text-repr-fallback {display: none;}</style><div id=\"sk-container-id-4\" class=\"sk-top-container\"><div class=\"sk-text-repr-fallback\"><pre>KNeighborsClassifier()</pre><b>In a Jupyter environment, please rerun this cell to show the HTML representation or trust the notebook. <br />On GitHub, the HTML representation is unable to render, please try loading this page with nbviewer.org.</b></div><div class=\"sk-container\" hidden><div class=\"sk-item\"><div class=\"sk-estimator sk-toggleable\"><input class=\"sk-toggleable__control sk-hidden--visually\" id=\"sk-estimator-id-4\" type=\"checkbox\" checked><label for=\"sk-estimator-id-4\" class=\"sk-toggleable__label sk-toggleable__label-arrow\">KNeighborsClassifier</label><div class=\"sk-toggleable__content\"><pre>KNeighborsClassifier()</pre></div></div></div></div></div>"
            ]
          },
          "metadata": {},
          "execution_count": 237
        }
      ],
      "source": [
        "#KNeighborsClassifier\n",
        "knc = KNeighborsClassifier()\n",
        "knc.fit(X_train_con,y_train)"
      ]
    },
    {
      "cell_type": "code",
      "execution_count": 238,
      "metadata": {
        "colab": {
          "base_uri": "https://localhost:8080/"
        },
        "id": "VsesbXbwY_V7",
        "outputId": "177ad685-a657-4270-ab0f-057d16002bc0"
      },
      "outputs": [
        {
          "output_type": "execute_result",
          "data": {
            "text/plain": [
              "array(['Good', 'Poor', 'Poor', ..., 'Poor', 'Standard', 'Standard'],\n",
              "      dtype=object)"
            ]
          },
          "metadata": {},
          "execution_count": 238
        }
      ],
      "source": [
        "knc_train_preds = knc.predict(X_train_con)\n",
        "knc_train_preds"
      ]
    },
    {
      "cell_type": "code",
      "execution_count": 239,
      "metadata": {
        "colab": {
          "base_uri": "https://localhost:8080/"
        },
        "id": "X0lQdyF3Ztmq",
        "outputId": "456a8e2a-8482-4764-a175-87f5ad05d849"
      },
      "outputs": [
        {
          "output_type": "execute_result",
          "data": {
            "text/plain": [
              "array(['Standard', 'Standard', 'Poor', ..., 'Standard', 'Standard',\n",
              "       'Poor'], dtype=object)"
            ]
          },
          "metadata": {},
          "execution_count": 239
        }
      ],
      "source": [
        "knc_test_preds = knc.predict(X_test_con)\n",
        "knc_test_preds"
      ]
    },
    {
      "cell_type": "code",
      "execution_count": 241,
      "metadata": {
        "colab": {
          "base_uri": "https://localhost:8080/"
        },
        "id": "pFFcZ8JsZu2C",
        "outputId": "f2daaff8-32d2-47ae-e669-3e488cba7df5"
      },
      "outputs": [
        {
          "output_type": "execute_result",
          "data": {
            "text/plain": [
              "0.7380142857142857"
            ]
          },
          "metadata": {},
          "execution_count": 241
        }
      ],
      "source": [
        "knc_train_preds_score = knc.score(X_train_con,y_train)\n",
        "knc_train_preds_score"
      ]
    },
    {
      "cell_type": "code",
      "execution_count": 242,
      "metadata": {
        "colab": {
          "base_uri": "https://localhost:8080/"
        },
        "id": "Z-gScuY6byOp",
        "outputId": "02f67216-d34b-4f00-e2ff-2d8842b0e12e"
      },
      "outputs": [
        {
          "output_type": "execute_result",
          "data": {
            "text/plain": [
              "0.6170333333333333"
            ]
          },
          "metadata": {},
          "execution_count": 242
        }
      ],
      "source": [
        "knc_test_preds_score = knc.score(X_test_con,y_test)\n",
        "knc_test_preds_score"
      ]
    },
    {
      "cell_type": "code",
      "execution_count": 243,
      "metadata": {
        "colab": {
          "base_uri": "https://localhost:8080/"
        },
        "id": "AqFuzktMcPey",
        "outputId": "e89827cc-fe20-46ac-d4a8-89522abcbca6"
      },
      "outputs": [
        {
          "output_type": "execute_result",
          "data": {
            "text/plain": [
              "0.6925666666666667"
            ]
          },
          "metadata": {},
          "execution_count": 243
        }
      ],
      "source": [
        "#DecisionTreeClassifier\n",
        "dtc = DecisionTreeClassifier()\n",
        "dtc.fit(X_train_con,y_train)\n",
        "dtc_train_preds = dtc.predict(X_train_con)\n",
        "dtc_train_preds\n",
        "dtc_test_preds = dtc.predict(X_test_con)\n",
        "dtc_test_preds\n",
        "dtc_train_preds_score = dtc.score(X_train_con,y_train)\n",
        "dtc_train_preds_score\n",
        "dtc_test_preds_score = dtc.score(X_test_con,y_test)\n",
        "dtc_test_preds_score"
      ]
    },
    {
      "cell_type": "markdown",
      "metadata": {
        "id": "GtsDkZbQD0Sc"
      },
      "source": [
        "**Importing the Test Data**"
      ]
    },
    {
      "cell_type": "code",
      "execution_count": 244,
      "metadata": {
        "id": "PcYndulldPzp"
      },
      "outputs": [],
      "source": [
        "test_df = pd.read_csv('/content/test..csv')"
      ]
    },
    {
      "cell_type": "code",
      "execution_count": 245,
      "metadata": {
        "colab": {
          "base_uri": "https://localhost:8080/",
          "height": 429
        },
        "id": "RisWRmOOdbb5",
        "outputId": "696b8253-6683-4a8b-a893-c673c50f9650"
      },
      "outputs": [
        {
          "output_type": "execute_result",
          "data": {
            "text/plain": [
              "       ID Customer_ID      Month             Name  Age          SSN  \\\n",
              "0  0x160a   CUS_0xd40  September    Aaron Maashoh   23  821-00-0265   \n",
              "1  0x160b   CUS_0xd40    October    Aaron Maashoh   24  821-00-0265   \n",
              "2  0x160c   CUS_0xd40   November    Aaron Maashoh   24  821-00-0265   \n",
              "3  0x160d   CUS_0xd40   December    Aaron Maashoh  24_  821-00-0265   \n",
              "4  0x1616  CUS_0x21b1  September  Rick Rothackerj   28  004-07-5839   \n",
              "\n",
              "  Occupation Annual_Income  Monthly_Inhand_Salary  Num_Bank_Accounts  ...  \\\n",
              "0  Scientist      19114.12            1824.843333                  3  ...   \n",
              "1  Scientist      19114.12            1824.843333                  3  ...   \n",
              "2  Scientist      19114.12            1824.843333                  3  ...   \n",
              "3  Scientist      19114.12                    NaN                  3  ...   \n",
              "4    _______      34847.84            3037.986667                  2  ...   \n",
              "\n",
              "   Num_Credit_Inquiries  Credit_Mix Outstanding_Debt Credit_Utilization_Ratio  \\\n",
              "0                2022.0        Good           809.98                35.030402   \n",
              "1                   4.0        Good           809.98                33.053114   \n",
              "2                   4.0        Good           809.98                33.811894   \n",
              "3                   4.0        Good           809.98                32.430559   \n",
              "4                   5.0        Good           605.03                25.926822   \n",
              "\n",
              "       Credit_History_Age Payment_of_Min_Amount Total_EMI_per_month  \\\n",
              "0   22 Years and 9 Months                    No           49.574949   \n",
              "1  22 Years and 10 Months                    No           49.574949   \n",
              "2                     NaN                    No           49.574949   \n",
              "3   23 Years and 0 Months                    No           49.574949   \n",
              "4   27 Years and 3 Months                    No           18.816215   \n",
              "\n",
              "   Amount_invested_monthly                 Payment_Behaviour Monthly_Balance  \n",
              "0               236.642682    Low_spent_Small_value_payments     186.2667021  \n",
              "1              21.46538026  High_spent_Medium_value_payments     361.4440039  \n",
              "2              148.2339379   Low_spent_Medium_value_payments     264.6754462  \n",
              "3              39.08251089  High_spent_Medium_value_payments     343.8268732  \n",
              "4              39.68401842   High_spent_Large_value_payments     485.2984337  \n",
              "\n",
              "[5 rows x 27 columns]"
            ],
            "text/html": [
              "\n",
              "  <div id=\"df-596f9d32-6092-4bc8-b60f-44142f1550ea\" class=\"colab-df-container\">\n",
              "    <div>\n",
              "<style scoped>\n",
              "    .dataframe tbody tr th:only-of-type {\n",
              "        vertical-align: middle;\n",
              "    }\n",
              "\n",
              "    .dataframe tbody tr th {\n",
              "        vertical-align: top;\n",
              "    }\n",
              "\n",
              "    .dataframe thead th {\n",
              "        text-align: right;\n",
              "    }\n",
              "</style>\n",
              "<table border=\"1\" class=\"dataframe\">\n",
              "  <thead>\n",
              "    <tr style=\"text-align: right;\">\n",
              "      <th></th>\n",
              "      <th>ID</th>\n",
              "      <th>Customer_ID</th>\n",
              "      <th>Month</th>\n",
              "      <th>Name</th>\n",
              "      <th>Age</th>\n",
              "      <th>SSN</th>\n",
              "      <th>Occupation</th>\n",
              "      <th>Annual_Income</th>\n",
              "      <th>Monthly_Inhand_Salary</th>\n",
              "      <th>Num_Bank_Accounts</th>\n",
              "      <th>...</th>\n",
              "      <th>Num_Credit_Inquiries</th>\n",
              "      <th>Credit_Mix</th>\n",
              "      <th>Outstanding_Debt</th>\n",
              "      <th>Credit_Utilization_Ratio</th>\n",
              "      <th>Credit_History_Age</th>\n",
              "      <th>Payment_of_Min_Amount</th>\n",
              "      <th>Total_EMI_per_month</th>\n",
              "      <th>Amount_invested_monthly</th>\n",
              "      <th>Payment_Behaviour</th>\n",
              "      <th>Monthly_Balance</th>\n",
              "    </tr>\n",
              "  </thead>\n",
              "  <tbody>\n",
              "    <tr>\n",
              "      <th>0</th>\n",
              "      <td>0x160a</td>\n",
              "      <td>CUS_0xd40</td>\n",
              "      <td>September</td>\n",
              "      <td>Aaron Maashoh</td>\n",
              "      <td>23</td>\n",
              "      <td>821-00-0265</td>\n",
              "      <td>Scientist</td>\n",
              "      <td>19114.12</td>\n",
              "      <td>1824.843333</td>\n",
              "      <td>3</td>\n",
              "      <td>...</td>\n",
              "      <td>2022.0</td>\n",
              "      <td>Good</td>\n",
              "      <td>809.98</td>\n",
              "      <td>35.030402</td>\n",
              "      <td>22 Years and 9 Months</td>\n",
              "      <td>No</td>\n",
              "      <td>49.574949</td>\n",
              "      <td>236.642682</td>\n",
              "      <td>Low_spent_Small_value_payments</td>\n",
              "      <td>186.2667021</td>\n",
              "    </tr>\n",
              "    <tr>\n",
              "      <th>1</th>\n",
              "      <td>0x160b</td>\n",
              "      <td>CUS_0xd40</td>\n",
              "      <td>October</td>\n",
              "      <td>Aaron Maashoh</td>\n",
              "      <td>24</td>\n",
              "      <td>821-00-0265</td>\n",
              "      <td>Scientist</td>\n",
              "      <td>19114.12</td>\n",
              "      <td>1824.843333</td>\n",
              "      <td>3</td>\n",
              "      <td>...</td>\n",
              "      <td>4.0</td>\n",
              "      <td>Good</td>\n",
              "      <td>809.98</td>\n",
              "      <td>33.053114</td>\n",
              "      <td>22 Years and 10 Months</td>\n",
              "      <td>No</td>\n",
              "      <td>49.574949</td>\n",
              "      <td>21.46538026</td>\n",
              "      <td>High_spent_Medium_value_payments</td>\n",
              "      <td>361.4440039</td>\n",
              "    </tr>\n",
              "    <tr>\n",
              "      <th>2</th>\n",
              "      <td>0x160c</td>\n",
              "      <td>CUS_0xd40</td>\n",
              "      <td>November</td>\n",
              "      <td>Aaron Maashoh</td>\n",
              "      <td>24</td>\n",
              "      <td>821-00-0265</td>\n",
              "      <td>Scientist</td>\n",
              "      <td>19114.12</td>\n",
              "      <td>1824.843333</td>\n",
              "      <td>3</td>\n",
              "      <td>...</td>\n",
              "      <td>4.0</td>\n",
              "      <td>Good</td>\n",
              "      <td>809.98</td>\n",
              "      <td>33.811894</td>\n",
              "      <td>NaN</td>\n",
              "      <td>No</td>\n",
              "      <td>49.574949</td>\n",
              "      <td>148.2339379</td>\n",
              "      <td>Low_spent_Medium_value_payments</td>\n",
              "      <td>264.6754462</td>\n",
              "    </tr>\n",
              "    <tr>\n",
              "      <th>3</th>\n",
              "      <td>0x160d</td>\n",
              "      <td>CUS_0xd40</td>\n",
              "      <td>December</td>\n",
              "      <td>Aaron Maashoh</td>\n",
              "      <td>24_</td>\n",
              "      <td>821-00-0265</td>\n",
              "      <td>Scientist</td>\n",
              "      <td>19114.12</td>\n",
              "      <td>NaN</td>\n",
              "      <td>3</td>\n",
              "      <td>...</td>\n",
              "      <td>4.0</td>\n",
              "      <td>Good</td>\n",
              "      <td>809.98</td>\n",
              "      <td>32.430559</td>\n",
              "      <td>23 Years and 0 Months</td>\n",
              "      <td>No</td>\n",
              "      <td>49.574949</td>\n",
              "      <td>39.08251089</td>\n",
              "      <td>High_spent_Medium_value_payments</td>\n",
              "      <td>343.8268732</td>\n",
              "    </tr>\n",
              "    <tr>\n",
              "      <th>4</th>\n",
              "      <td>0x1616</td>\n",
              "      <td>CUS_0x21b1</td>\n",
              "      <td>September</td>\n",
              "      <td>Rick Rothackerj</td>\n",
              "      <td>28</td>\n",
              "      <td>004-07-5839</td>\n",
              "      <td>_______</td>\n",
              "      <td>34847.84</td>\n",
              "      <td>3037.986667</td>\n",
              "      <td>2</td>\n",
              "      <td>...</td>\n",
              "      <td>5.0</td>\n",
              "      <td>Good</td>\n",
              "      <td>605.03</td>\n",
              "      <td>25.926822</td>\n",
              "      <td>27 Years and 3 Months</td>\n",
              "      <td>No</td>\n",
              "      <td>18.816215</td>\n",
              "      <td>39.68401842</td>\n",
              "      <td>High_spent_Large_value_payments</td>\n",
              "      <td>485.2984337</td>\n",
              "    </tr>\n",
              "  </tbody>\n",
              "</table>\n",
              "<p>5 rows × 27 columns</p>\n",
              "</div>\n",
              "    <div class=\"colab-df-buttons\">\n",
              "\n",
              "  <div class=\"colab-df-container\">\n",
              "    <button class=\"colab-df-convert\" onclick=\"convertToInteractive('df-596f9d32-6092-4bc8-b60f-44142f1550ea')\"\n",
              "            title=\"Convert this dataframe to an interactive table.\"\n",
              "            style=\"display:none;\">\n",
              "\n",
              "  <svg xmlns=\"http://www.w3.org/2000/svg\" height=\"24px\" viewBox=\"0 -960 960 960\">\n",
              "    <path d=\"M120-120v-720h720v720H120Zm60-500h600v-160H180v160Zm220 220h160v-160H400v160Zm0 220h160v-160H400v160ZM180-400h160v-160H180v160Zm440 0h160v-160H620v160ZM180-180h160v-160H180v160Zm440 0h160v-160H620v160Z\"/>\n",
              "  </svg>\n",
              "    </button>\n",
              "\n",
              "  <style>\n",
              "    .colab-df-container {\n",
              "      display:flex;\n",
              "      gap: 12px;\n",
              "    }\n",
              "\n",
              "    .colab-df-convert {\n",
              "      background-color: #E8F0FE;\n",
              "      border: none;\n",
              "      border-radius: 50%;\n",
              "      cursor: pointer;\n",
              "      display: none;\n",
              "      fill: #1967D2;\n",
              "      height: 32px;\n",
              "      padding: 0 0 0 0;\n",
              "      width: 32px;\n",
              "    }\n",
              "\n",
              "    .colab-df-convert:hover {\n",
              "      background-color: #E2EBFA;\n",
              "      box-shadow: 0px 1px 2px rgba(60, 64, 67, 0.3), 0px 1px 3px 1px rgba(60, 64, 67, 0.15);\n",
              "      fill: #174EA6;\n",
              "    }\n",
              "\n",
              "    .colab-df-buttons div {\n",
              "      margin-bottom: 4px;\n",
              "    }\n",
              "\n",
              "    [theme=dark] .colab-df-convert {\n",
              "      background-color: #3B4455;\n",
              "      fill: #D2E3FC;\n",
              "    }\n",
              "\n",
              "    [theme=dark] .colab-df-convert:hover {\n",
              "      background-color: #434B5C;\n",
              "      box-shadow: 0px 1px 3px 1px rgba(0, 0, 0, 0.15);\n",
              "      filter: drop-shadow(0px 1px 2px rgba(0, 0, 0, 0.3));\n",
              "      fill: #FFFFFF;\n",
              "    }\n",
              "  </style>\n",
              "\n",
              "    <script>\n",
              "      const buttonEl =\n",
              "        document.querySelector('#df-596f9d32-6092-4bc8-b60f-44142f1550ea button.colab-df-convert');\n",
              "      buttonEl.style.display =\n",
              "        google.colab.kernel.accessAllowed ? 'block' : 'none';\n",
              "\n",
              "      async function convertToInteractive(key) {\n",
              "        const element = document.querySelector('#df-596f9d32-6092-4bc8-b60f-44142f1550ea');\n",
              "        const dataTable =\n",
              "          await google.colab.kernel.invokeFunction('convertToInteractive',\n",
              "                                                    [key], {});\n",
              "        if (!dataTable) return;\n",
              "\n",
              "        const docLinkHtml = 'Like what you see? Visit the ' +\n",
              "          '<a target=\"_blank\" href=https://colab.research.google.com/notebooks/data_table.ipynb>data table notebook</a>'\n",
              "          + ' to learn more about interactive tables.';\n",
              "        element.innerHTML = '';\n",
              "        dataTable['output_type'] = 'display_data';\n",
              "        await google.colab.output.renderOutput(dataTable, element);\n",
              "        const docLink = document.createElement('div');\n",
              "        docLink.innerHTML = docLinkHtml;\n",
              "        element.appendChild(docLink);\n",
              "      }\n",
              "    </script>\n",
              "  </div>\n",
              "\n",
              "\n",
              "<div id=\"df-cef3c8a4-ebf7-4114-9f8b-28488445e2c3\">\n",
              "  <button class=\"colab-df-quickchart\" onclick=\"quickchart('df-cef3c8a4-ebf7-4114-9f8b-28488445e2c3')\"\n",
              "            title=\"Suggest charts\"\n",
              "            style=\"display:none;\">\n",
              "\n",
              "<svg xmlns=\"http://www.w3.org/2000/svg\" height=\"24px\"viewBox=\"0 0 24 24\"\n",
              "     width=\"24px\">\n",
              "    <g>\n",
              "        <path d=\"M19 3H5c-1.1 0-2 .9-2 2v14c0 1.1.9 2 2 2h14c1.1 0 2-.9 2-2V5c0-1.1-.9-2-2-2zM9 17H7v-7h2v7zm4 0h-2V7h2v10zm4 0h-2v-4h2v4z\"/>\n",
              "    </g>\n",
              "</svg>\n",
              "  </button>\n",
              "\n",
              "<style>\n",
              "  .colab-df-quickchart {\n",
              "      --bg-color: #E8F0FE;\n",
              "      --fill-color: #1967D2;\n",
              "      --hover-bg-color: #E2EBFA;\n",
              "      --hover-fill-color: #174EA6;\n",
              "      --disabled-fill-color: #AAA;\n",
              "      --disabled-bg-color: #DDD;\n",
              "  }\n",
              "\n",
              "  [theme=dark] .colab-df-quickchart {\n",
              "      --bg-color: #3B4455;\n",
              "      --fill-color: #D2E3FC;\n",
              "      --hover-bg-color: #434B5C;\n",
              "      --hover-fill-color: #FFFFFF;\n",
              "      --disabled-bg-color: #3B4455;\n",
              "      --disabled-fill-color: #666;\n",
              "  }\n",
              "\n",
              "  .colab-df-quickchart {\n",
              "    background-color: var(--bg-color);\n",
              "    border: none;\n",
              "    border-radius: 50%;\n",
              "    cursor: pointer;\n",
              "    display: none;\n",
              "    fill: var(--fill-color);\n",
              "    height: 32px;\n",
              "    padding: 0;\n",
              "    width: 32px;\n",
              "  }\n",
              "\n",
              "  .colab-df-quickchart:hover {\n",
              "    background-color: var(--hover-bg-color);\n",
              "    box-shadow: 0 1px 2px rgba(60, 64, 67, 0.3), 0 1px 3px 1px rgba(60, 64, 67, 0.15);\n",
              "    fill: var(--button-hover-fill-color);\n",
              "  }\n",
              "\n",
              "  .colab-df-quickchart-complete:disabled,\n",
              "  .colab-df-quickchart-complete:disabled:hover {\n",
              "    background-color: var(--disabled-bg-color);\n",
              "    fill: var(--disabled-fill-color);\n",
              "    box-shadow: none;\n",
              "  }\n",
              "\n",
              "  .colab-df-spinner {\n",
              "    border: 2px solid var(--fill-color);\n",
              "    border-color: transparent;\n",
              "    border-bottom-color: var(--fill-color);\n",
              "    animation:\n",
              "      spin 1s steps(1) infinite;\n",
              "  }\n",
              "\n",
              "  @keyframes spin {\n",
              "    0% {\n",
              "      border-color: transparent;\n",
              "      border-bottom-color: var(--fill-color);\n",
              "      border-left-color: var(--fill-color);\n",
              "    }\n",
              "    20% {\n",
              "      border-color: transparent;\n",
              "      border-left-color: var(--fill-color);\n",
              "      border-top-color: var(--fill-color);\n",
              "    }\n",
              "    30% {\n",
              "      border-color: transparent;\n",
              "      border-left-color: var(--fill-color);\n",
              "      border-top-color: var(--fill-color);\n",
              "      border-right-color: var(--fill-color);\n",
              "    }\n",
              "    40% {\n",
              "      border-color: transparent;\n",
              "      border-right-color: var(--fill-color);\n",
              "      border-top-color: var(--fill-color);\n",
              "    }\n",
              "    60% {\n",
              "      border-color: transparent;\n",
              "      border-right-color: var(--fill-color);\n",
              "    }\n",
              "    80% {\n",
              "      border-color: transparent;\n",
              "      border-right-color: var(--fill-color);\n",
              "      border-bottom-color: var(--fill-color);\n",
              "    }\n",
              "    90% {\n",
              "      border-color: transparent;\n",
              "      border-bottom-color: var(--fill-color);\n",
              "    }\n",
              "  }\n",
              "</style>\n",
              "\n",
              "  <script>\n",
              "    async function quickchart(key) {\n",
              "      const quickchartButtonEl =\n",
              "        document.querySelector('#' + key + ' button');\n",
              "      quickchartButtonEl.disabled = true;  // To prevent multiple clicks.\n",
              "      quickchartButtonEl.classList.add('colab-df-spinner');\n",
              "      try {\n",
              "        const charts = await google.colab.kernel.invokeFunction(\n",
              "            'suggestCharts', [key], {});\n",
              "      } catch (error) {\n",
              "        console.error('Error during call to suggestCharts:', error);\n",
              "      }\n",
              "      quickchartButtonEl.classList.remove('colab-df-spinner');\n",
              "      quickchartButtonEl.classList.add('colab-df-quickchart-complete');\n",
              "    }\n",
              "    (() => {\n",
              "      let quickchartButtonEl =\n",
              "        document.querySelector('#df-cef3c8a4-ebf7-4114-9f8b-28488445e2c3 button');\n",
              "      quickchartButtonEl.style.display =\n",
              "        google.colab.kernel.accessAllowed ? 'block' : 'none';\n",
              "    })();\n",
              "  </script>\n",
              "</div>\n",
              "    </div>\n",
              "  </div>\n"
            ]
          },
          "metadata": {},
          "execution_count": 245
        }
      ],
      "source": [
        "test_df.head()"
      ]
    },
    {
      "cell_type": "code",
      "execution_count": 246,
      "metadata": {
        "colab": {
          "base_uri": "https://localhost:8080/",
          "height": 320
        },
        "id": "v0eq1d0OdhD5",
        "outputId": "d208bf4f-b4e2-4ada-a8f3-ced152032a1a"
      },
      "outputs": [
        {
          "output_type": "execute_result",
          "data": {
            "text/plain": [
              "       Monthly_Inhand_Salary  Num_Bank_Accounts  Num_Credit_Card  \\\n",
              "count           42502.000000       50000.000000     50000.000000   \n",
              "mean             4182.004291          16.838260        22.921480   \n",
              "std              3174.109304         116.396848       129.314804   \n",
              "min               303.645417          -1.000000         0.000000   \n",
              "25%              1625.188333           3.000000         4.000000   \n",
              "50%              3086.305000           6.000000         5.000000   \n",
              "75%              5934.189094           7.000000         7.000000   \n",
              "max             15204.633330        1798.000000      1499.000000   \n",
              "\n",
              "       Interest_Rate  Delay_from_due_date  Num_Credit_Inquiries  \\\n",
              "count   50000.000000         50000.000000          48965.000000   \n",
              "mean       68.772640            21.052640             30.080200   \n",
              "std       451.602363            14.860397            196.984121   \n",
              "min         1.000000            -5.000000              0.000000   \n",
              "25%         8.000000            10.000000              4.000000   \n",
              "50%        13.000000            18.000000              7.000000   \n",
              "75%        20.000000            28.000000             10.000000   \n",
              "max      5799.000000            67.000000           2593.000000   \n",
              "\n",
              "       Credit_Utilization_Ratio  Total_EMI_per_month  \n",
              "count              50000.000000         50000.000000  \n",
              "mean                  32.279581          1491.304305  \n",
              "std                    5.106238          8595.647887  \n",
              "min                   20.509652             0.000000  \n",
              "25%                   28.061040            32.222388  \n",
              "50%                   32.280390            74.733349  \n",
              "75%                   36.468591           176.157491  \n",
              "max                   48.540663         82398.000000  "
            ],
            "text/html": [
              "\n",
              "  <div id=\"df-88deaa15-112a-45ef-87f7-7d0e96e11caf\" class=\"colab-df-container\">\n",
              "    <div>\n",
              "<style scoped>\n",
              "    .dataframe tbody tr th:only-of-type {\n",
              "        vertical-align: middle;\n",
              "    }\n",
              "\n",
              "    .dataframe tbody tr th {\n",
              "        vertical-align: top;\n",
              "    }\n",
              "\n",
              "    .dataframe thead th {\n",
              "        text-align: right;\n",
              "    }\n",
              "</style>\n",
              "<table border=\"1\" class=\"dataframe\">\n",
              "  <thead>\n",
              "    <tr style=\"text-align: right;\">\n",
              "      <th></th>\n",
              "      <th>Monthly_Inhand_Salary</th>\n",
              "      <th>Num_Bank_Accounts</th>\n",
              "      <th>Num_Credit_Card</th>\n",
              "      <th>Interest_Rate</th>\n",
              "      <th>Delay_from_due_date</th>\n",
              "      <th>Num_Credit_Inquiries</th>\n",
              "      <th>Credit_Utilization_Ratio</th>\n",
              "      <th>Total_EMI_per_month</th>\n",
              "    </tr>\n",
              "  </thead>\n",
              "  <tbody>\n",
              "    <tr>\n",
              "      <th>count</th>\n",
              "      <td>42502.000000</td>\n",
              "      <td>50000.000000</td>\n",
              "      <td>50000.000000</td>\n",
              "      <td>50000.000000</td>\n",
              "      <td>50000.000000</td>\n",
              "      <td>48965.000000</td>\n",
              "      <td>50000.000000</td>\n",
              "      <td>50000.000000</td>\n",
              "    </tr>\n",
              "    <tr>\n",
              "      <th>mean</th>\n",
              "      <td>4182.004291</td>\n",
              "      <td>16.838260</td>\n",
              "      <td>22.921480</td>\n",
              "      <td>68.772640</td>\n",
              "      <td>21.052640</td>\n",
              "      <td>30.080200</td>\n",
              "      <td>32.279581</td>\n",
              "      <td>1491.304305</td>\n",
              "    </tr>\n",
              "    <tr>\n",
              "      <th>std</th>\n",
              "      <td>3174.109304</td>\n",
              "      <td>116.396848</td>\n",
              "      <td>129.314804</td>\n",
              "      <td>451.602363</td>\n",
              "      <td>14.860397</td>\n",
              "      <td>196.984121</td>\n",
              "      <td>5.106238</td>\n",
              "      <td>8595.647887</td>\n",
              "    </tr>\n",
              "    <tr>\n",
              "      <th>min</th>\n",
              "      <td>303.645417</td>\n",
              "      <td>-1.000000</td>\n",
              "      <td>0.000000</td>\n",
              "      <td>1.000000</td>\n",
              "      <td>-5.000000</td>\n",
              "      <td>0.000000</td>\n",
              "      <td>20.509652</td>\n",
              "      <td>0.000000</td>\n",
              "    </tr>\n",
              "    <tr>\n",
              "      <th>25%</th>\n",
              "      <td>1625.188333</td>\n",
              "      <td>3.000000</td>\n",
              "      <td>4.000000</td>\n",
              "      <td>8.000000</td>\n",
              "      <td>10.000000</td>\n",
              "      <td>4.000000</td>\n",
              "      <td>28.061040</td>\n",
              "      <td>32.222388</td>\n",
              "    </tr>\n",
              "    <tr>\n",
              "      <th>50%</th>\n",
              "      <td>3086.305000</td>\n",
              "      <td>6.000000</td>\n",
              "      <td>5.000000</td>\n",
              "      <td>13.000000</td>\n",
              "      <td>18.000000</td>\n",
              "      <td>7.000000</td>\n",
              "      <td>32.280390</td>\n",
              "      <td>74.733349</td>\n",
              "    </tr>\n",
              "    <tr>\n",
              "      <th>75%</th>\n",
              "      <td>5934.189094</td>\n",
              "      <td>7.000000</td>\n",
              "      <td>7.000000</td>\n",
              "      <td>20.000000</td>\n",
              "      <td>28.000000</td>\n",
              "      <td>10.000000</td>\n",
              "      <td>36.468591</td>\n",
              "      <td>176.157491</td>\n",
              "    </tr>\n",
              "    <tr>\n",
              "      <th>max</th>\n",
              "      <td>15204.633330</td>\n",
              "      <td>1798.000000</td>\n",
              "      <td>1499.000000</td>\n",
              "      <td>5799.000000</td>\n",
              "      <td>67.000000</td>\n",
              "      <td>2593.000000</td>\n",
              "      <td>48.540663</td>\n",
              "      <td>82398.000000</td>\n",
              "    </tr>\n",
              "  </tbody>\n",
              "</table>\n",
              "</div>\n",
              "    <div class=\"colab-df-buttons\">\n",
              "\n",
              "  <div class=\"colab-df-container\">\n",
              "    <button class=\"colab-df-convert\" onclick=\"convertToInteractive('df-88deaa15-112a-45ef-87f7-7d0e96e11caf')\"\n",
              "            title=\"Convert this dataframe to an interactive table.\"\n",
              "            style=\"display:none;\">\n",
              "\n",
              "  <svg xmlns=\"http://www.w3.org/2000/svg\" height=\"24px\" viewBox=\"0 -960 960 960\">\n",
              "    <path d=\"M120-120v-720h720v720H120Zm60-500h600v-160H180v160Zm220 220h160v-160H400v160Zm0 220h160v-160H400v160ZM180-400h160v-160H180v160Zm440 0h160v-160H620v160ZM180-180h160v-160H180v160Zm440 0h160v-160H620v160Z\"/>\n",
              "  </svg>\n",
              "    </button>\n",
              "\n",
              "  <style>\n",
              "    .colab-df-container {\n",
              "      display:flex;\n",
              "      gap: 12px;\n",
              "    }\n",
              "\n",
              "    .colab-df-convert {\n",
              "      background-color: #E8F0FE;\n",
              "      border: none;\n",
              "      border-radius: 50%;\n",
              "      cursor: pointer;\n",
              "      display: none;\n",
              "      fill: #1967D2;\n",
              "      height: 32px;\n",
              "      padding: 0 0 0 0;\n",
              "      width: 32px;\n",
              "    }\n",
              "\n",
              "    .colab-df-convert:hover {\n",
              "      background-color: #E2EBFA;\n",
              "      box-shadow: 0px 1px 2px rgba(60, 64, 67, 0.3), 0px 1px 3px 1px rgba(60, 64, 67, 0.15);\n",
              "      fill: #174EA6;\n",
              "    }\n",
              "\n",
              "    .colab-df-buttons div {\n",
              "      margin-bottom: 4px;\n",
              "    }\n",
              "\n",
              "    [theme=dark] .colab-df-convert {\n",
              "      background-color: #3B4455;\n",
              "      fill: #D2E3FC;\n",
              "    }\n",
              "\n",
              "    [theme=dark] .colab-df-convert:hover {\n",
              "      background-color: #434B5C;\n",
              "      box-shadow: 0px 1px 3px 1px rgba(0, 0, 0, 0.15);\n",
              "      filter: drop-shadow(0px 1px 2px rgba(0, 0, 0, 0.3));\n",
              "      fill: #FFFFFF;\n",
              "    }\n",
              "  </style>\n",
              "\n",
              "    <script>\n",
              "      const buttonEl =\n",
              "        document.querySelector('#df-88deaa15-112a-45ef-87f7-7d0e96e11caf button.colab-df-convert');\n",
              "      buttonEl.style.display =\n",
              "        google.colab.kernel.accessAllowed ? 'block' : 'none';\n",
              "\n",
              "      async function convertToInteractive(key) {\n",
              "        const element = document.querySelector('#df-88deaa15-112a-45ef-87f7-7d0e96e11caf');\n",
              "        const dataTable =\n",
              "          await google.colab.kernel.invokeFunction('convertToInteractive',\n",
              "                                                    [key], {});\n",
              "        if (!dataTable) return;\n",
              "\n",
              "        const docLinkHtml = 'Like what you see? Visit the ' +\n",
              "          '<a target=\"_blank\" href=https://colab.research.google.com/notebooks/data_table.ipynb>data table notebook</a>'\n",
              "          + ' to learn more about interactive tables.';\n",
              "        element.innerHTML = '';\n",
              "        dataTable['output_type'] = 'display_data';\n",
              "        await google.colab.output.renderOutput(dataTable, element);\n",
              "        const docLink = document.createElement('div');\n",
              "        docLink.innerHTML = docLinkHtml;\n",
              "        element.appendChild(docLink);\n",
              "      }\n",
              "    </script>\n",
              "  </div>\n",
              "\n",
              "\n",
              "<div id=\"df-900aa733-928c-40fa-a071-daf49aae1fbb\">\n",
              "  <button class=\"colab-df-quickchart\" onclick=\"quickchart('df-900aa733-928c-40fa-a071-daf49aae1fbb')\"\n",
              "            title=\"Suggest charts\"\n",
              "            style=\"display:none;\">\n",
              "\n",
              "<svg xmlns=\"http://www.w3.org/2000/svg\" height=\"24px\"viewBox=\"0 0 24 24\"\n",
              "     width=\"24px\">\n",
              "    <g>\n",
              "        <path d=\"M19 3H5c-1.1 0-2 .9-2 2v14c0 1.1.9 2 2 2h14c1.1 0 2-.9 2-2V5c0-1.1-.9-2-2-2zM9 17H7v-7h2v7zm4 0h-2V7h2v10zm4 0h-2v-4h2v4z\"/>\n",
              "    </g>\n",
              "</svg>\n",
              "  </button>\n",
              "\n",
              "<style>\n",
              "  .colab-df-quickchart {\n",
              "      --bg-color: #E8F0FE;\n",
              "      --fill-color: #1967D2;\n",
              "      --hover-bg-color: #E2EBFA;\n",
              "      --hover-fill-color: #174EA6;\n",
              "      --disabled-fill-color: #AAA;\n",
              "      --disabled-bg-color: #DDD;\n",
              "  }\n",
              "\n",
              "  [theme=dark] .colab-df-quickchart {\n",
              "      --bg-color: #3B4455;\n",
              "      --fill-color: #D2E3FC;\n",
              "      --hover-bg-color: #434B5C;\n",
              "      --hover-fill-color: #FFFFFF;\n",
              "      --disabled-bg-color: #3B4455;\n",
              "      --disabled-fill-color: #666;\n",
              "  }\n",
              "\n",
              "  .colab-df-quickchart {\n",
              "    background-color: var(--bg-color);\n",
              "    border: none;\n",
              "    border-radius: 50%;\n",
              "    cursor: pointer;\n",
              "    display: none;\n",
              "    fill: var(--fill-color);\n",
              "    height: 32px;\n",
              "    padding: 0;\n",
              "    width: 32px;\n",
              "  }\n",
              "\n",
              "  .colab-df-quickchart:hover {\n",
              "    background-color: var(--hover-bg-color);\n",
              "    box-shadow: 0 1px 2px rgba(60, 64, 67, 0.3), 0 1px 3px 1px rgba(60, 64, 67, 0.15);\n",
              "    fill: var(--button-hover-fill-color);\n",
              "  }\n",
              "\n",
              "  .colab-df-quickchart-complete:disabled,\n",
              "  .colab-df-quickchart-complete:disabled:hover {\n",
              "    background-color: var(--disabled-bg-color);\n",
              "    fill: var(--disabled-fill-color);\n",
              "    box-shadow: none;\n",
              "  }\n",
              "\n",
              "  .colab-df-spinner {\n",
              "    border: 2px solid var(--fill-color);\n",
              "    border-color: transparent;\n",
              "    border-bottom-color: var(--fill-color);\n",
              "    animation:\n",
              "      spin 1s steps(1) infinite;\n",
              "  }\n",
              "\n",
              "  @keyframes spin {\n",
              "    0% {\n",
              "      border-color: transparent;\n",
              "      border-bottom-color: var(--fill-color);\n",
              "      border-left-color: var(--fill-color);\n",
              "    }\n",
              "    20% {\n",
              "      border-color: transparent;\n",
              "      border-left-color: var(--fill-color);\n",
              "      border-top-color: var(--fill-color);\n",
              "    }\n",
              "    30% {\n",
              "      border-color: transparent;\n",
              "      border-left-color: var(--fill-color);\n",
              "      border-top-color: var(--fill-color);\n",
              "      border-right-color: var(--fill-color);\n",
              "    }\n",
              "    40% {\n",
              "      border-color: transparent;\n",
              "      border-right-color: var(--fill-color);\n",
              "      border-top-color: var(--fill-color);\n",
              "    }\n",
              "    60% {\n",
              "      border-color: transparent;\n",
              "      border-right-color: var(--fill-color);\n",
              "    }\n",
              "    80% {\n",
              "      border-color: transparent;\n",
              "      border-right-color: var(--fill-color);\n",
              "      border-bottom-color: var(--fill-color);\n",
              "    }\n",
              "    90% {\n",
              "      border-color: transparent;\n",
              "      border-bottom-color: var(--fill-color);\n",
              "    }\n",
              "  }\n",
              "</style>\n",
              "\n",
              "  <script>\n",
              "    async function quickchart(key) {\n",
              "      const quickchartButtonEl =\n",
              "        document.querySelector('#' + key + ' button');\n",
              "      quickchartButtonEl.disabled = true;  // To prevent multiple clicks.\n",
              "      quickchartButtonEl.classList.add('colab-df-spinner');\n",
              "      try {\n",
              "        const charts = await google.colab.kernel.invokeFunction(\n",
              "            'suggestCharts', [key], {});\n",
              "      } catch (error) {\n",
              "        console.error('Error during call to suggestCharts:', error);\n",
              "      }\n",
              "      quickchartButtonEl.classList.remove('colab-df-spinner');\n",
              "      quickchartButtonEl.classList.add('colab-df-quickchart-complete');\n",
              "    }\n",
              "    (() => {\n",
              "      let quickchartButtonEl =\n",
              "        document.querySelector('#df-900aa733-928c-40fa-a071-daf49aae1fbb button');\n",
              "      quickchartButtonEl.style.display =\n",
              "        google.colab.kernel.accessAllowed ? 'block' : 'none';\n",
              "    })();\n",
              "  </script>\n",
              "</div>\n",
              "    </div>\n",
              "  </div>\n"
            ]
          },
          "metadata": {},
          "execution_count": 246
        }
      ],
      "source": [
        "test_df.describe()"
      ]
    },
    {
      "cell_type": "code",
      "execution_count": 247,
      "metadata": {
        "colab": {
          "base_uri": "https://localhost:8080/"
        },
        "id": "k7ITIPSJdlLZ",
        "outputId": "5fc29fe4-40b0-41de-d69a-537c46f49bd4"
      },
      "outputs": [
        {
          "output_type": "execute_result",
          "data": {
            "text/plain": [
              "(50000, 27)"
            ]
          },
          "metadata": {},
          "execution_count": 247
        }
      ],
      "source": [
        "test_df.shape"
      ]
    },
    {
      "cell_type": "code",
      "execution_count": 248,
      "metadata": {
        "colab": {
          "base_uri": "https://localhost:8080/"
        },
        "id": "oa0USXrMdpf6",
        "outputId": "97a7ec15-bb15-4b02-9739-a05bd6c84339"
      },
      "outputs": [
        {
          "output_type": "execute_result",
          "data": {
            "text/plain": [
              "ID                          50000\n",
              "Customer_ID                 12500\n",
              "Month                           4\n",
              "Name                        10139\n",
              "Age                           976\n",
              "SSN                         12501\n",
              "Occupation                     16\n",
              "Annual_Income               16121\n",
              "Monthly_Inhand_Salary       12793\n",
              "Num_Bank_Accounts             540\n",
              "Num_Credit_Card               819\n",
              "Interest_Rate                 945\n",
              "Num_of_Loan                   263\n",
              "Type_of_Loan                 6260\n",
              "Delay_from_due_date            73\n",
              "Num_of_Delayed_Payment        443\n",
              "Changed_Credit_Limit         3361\n",
              "Num_Credit_Inquiries          750\n",
              "Credit_Mix                      4\n",
              "Outstanding_Debt            12685\n",
              "Credit_Utilization_Ratio    50000\n",
              "Credit_History_Age            399\n",
              "Payment_of_Min_Amount           3\n",
              "Total_EMI_per_month         13144\n",
              "Amount_invested_monthly     45450\n",
              "Payment_Behaviour               7\n",
              "Monthly_Balance             49433\n",
              "dtype: int64"
            ]
          },
          "metadata": {},
          "execution_count": 248
        }
      ],
      "source": [
        "test_df.nunique()"
      ]
    },
    {
      "cell_type": "code",
      "execution_count": 249,
      "metadata": {
        "colab": {
          "base_uri": "https://localhost:8080/"
        },
        "id": "byf9fGg_dxFx",
        "outputId": "e3e99e78-7cab-4396-ed7c-c8fab5c56af9"
      },
      "outputs": [
        {
          "output_type": "stream",
          "name": "stdout",
          "text": [
            "<class 'pandas.core.frame.DataFrame'>\n",
            "RangeIndex: 50000 entries, 0 to 49999\n",
            "Data columns (total 27 columns):\n",
            " #   Column                    Non-Null Count  Dtype  \n",
            "---  ------                    --------------  -----  \n",
            " 0   ID                        50000 non-null  object \n",
            " 1   Customer_ID               50000 non-null  object \n",
            " 2   Month                     50000 non-null  object \n",
            " 3   Name                      44985 non-null  object \n",
            " 4   Age                       50000 non-null  object \n",
            " 5   SSN                       50000 non-null  object \n",
            " 6   Occupation                50000 non-null  object \n",
            " 7   Annual_Income             50000 non-null  object \n",
            " 8   Monthly_Inhand_Salary     42502 non-null  float64\n",
            " 9   Num_Bank_Accounts         50000 non-null  int64  \n",
            " 10  Num_Credit_Card           50000 non-null  int64  \n",
            " 11  Interest_Rate             50000 non-null  int64  \n",
            " 12  Num_of_Loan               50000 non-null  object \n",
            " 13  Type_of_Loan              44296 non-null  object \n",
            " 14  Delay_from_due_date       50000 non-null  int64  \n",
            " 15  Num_of_Delayed_Payment    46502 non-null  object \n",
            " 16  Changed_Credit_Limit      50000 non-null  object \n",
            " 17  Num_Credit_Inquiries      48965 non-null  float64\n",
            " 18  Credit_Mix                50000 non-null  object \n",
            " 19  Outstanding_Debt          50000 non-null  object \n",
            " 20  Credit_Utilization_Ratio  50000 non-null  float64\n",
            " 21  Credit_History_Age        45530 non-null  object \n",
            " 22  Payment_of_Min_Amount     50000 non-null  object \n",
            " 23  Total_EMI_per_month       50000 non-null  float64\n",
            " 24  Amount_invested_monthly   47729 non-null  object \n",
            " 25  Payment_Behaviour         50000 non-null  object \n",
            " 26  Monthly_Balance           49438 non-null  object \n",
            "dtypes: float64(4), int64(4), object(19)\n",
            "memory usage: 10.3+ MB\n"
          ]
        }
      ],
      "source": [
        "test_df.info()"
      ]
    },
    {
      "cell_type": "code",
      "execution_count": 250,
      "metadata": {
        "colab": {
          "base_uri": "https://localhost:8080/"
        },
        "id": "bU7wOhBcd20i",
        "outputId": "e0730ae3-bb70-4c69-c3f4-85d02d2fe564"
      },
      "outputs": [
        {
          "output_type": "execute_result",
          "data": {
            "text/plain": [
              "ID                           object\n",
              "Customer_ID                  object\n",
              "Month                        object\n",
              "Name                         object\n",
              "Age                          object\n",
              "SSN                          object\n",
              "Occupation                   object\n",
              "Annual_Income                object\n",
              "Monthly_Inhand_Salary       float64\n",
              "Num_Bank_Accounts             int64\n",
              "Num_Credit_Card               int64\n",
              "Interest_Rate                 int64\n",
              "Num_of_Loan                  object\n",
              "Type_of_Loan                 object\n",
              "Delay_from_due_date           int64\n",
              "Num_of_Delayed_Payment       object\n",
              "Changed_Credit_Limit         object\n",
              "Num_Credit_Inquiries        float64\n",
              "Credit_Mix                   object\n",
              "Outstanding_Debt             object\n",
              "Credit_Utilization_Ratio    float64\n",
              "Credit_History_Age           object\n",
              "Payment_of_Min_Amount        object\n",
              "Total_EMI_per_month         float64\n",
              "Amount_invested_monthly      object\n",
              "Payment_Behaviour            object\n",
              "Monthly_Balance              object\n",
              "dtype: object"
            ]
          },
          "metadata": {},
          "execution_count": 250
        }
      ],
      "source": [
        "test_df.dtypes"
      ]
    },
    {
      "cell_type": "code",
      "execution_count": 251,
      "metadata": {
        "colab": {
          "base_uri": "https://localhost:8080/"
        },
        "id": "AIPJqEp6d9Pp",
        "outputId": "6be3b8cf-36a9-46da-d73b-8f53dd87b8c9"
      },
      "outputs": [
        {
          "output_type": "stream",
          "name": "stdout",
          "text": [
            "(50000, 27)\n"
          ]
        }
      ],
      "source": [
        "test_df.drop_duplicates(keep = 'first', inplace = True)\n",
        "print(test_df.shape)"
      ]
    },
    {
      "cell_type": "code",
      "execution_count": 252,
      "metadata": {
        "id": "XlqId831eCMB"
      },
      "outputs": [],
      "source": [
        "test_df1 = test_df.drop(['ID', 'Customer_ID', 'Type_of_Loan', 'Month', 'Name', 'SSN'], axis=1)"
      ]
    },
    {
      "cell_type": "code",
      "execution_count": 253,
      "metadata": {
        "colab": {
          "base_uri": "https://localhost:8080/"
        },
        "id": "CTjpvLeveIpJ",
        "outputId": "7d76e210-2903-4dce-ef7f-228ea7b5d6ac"
      },
      "outputs": [
        {
          "output_type": "execute_result",
          "data": {
            "text/plain": [
              "(50000, 21)"
            ]
          },
          "metadata": {},
          "execution_count": 253
        }
      ],
      "source": [
        "test_df1.shape"
      ]
    },
    {
      "cell_type": "code",
      "execution_count": 254,
      "metadata": {
        "id": "PUrex_jBeMU4"
      },
      "outputs": [],
      "source": [
        "test_df1 = test_df1.applymap(\n",
        "  lambda x: x if x is np.NaN or not \\\n",
        "    isinstance(x, str) else str(x).strip('_')).replace(['', 'nan', '!@9#%8', '#F%$D@*&8'], np.NaN)"
      ]
    },
    {
      "cell_type": "code",
      "execution_count": 255,
      "metadata": {
        "id": "uKXgLPn0eMda"
      },
      "outputs": [],
      "source": [
        "test_df1['Age'] = test_df1['Age'].astype(int)\n",
        "test_df1['Annual_Income'] = test_df1['Annual_Income'].astype(float)\n",
        "test_df1['Num_of_Loan'] = test_df1['Num_of_Loan'].astype(int)\n",
        "test_df1['Num_of_Delayed_Payment'] = test_df1['Num_of_Delayed_Payment'].astype(float)\n",
        "test_df1['Changed_Credit_Limit'] = test_df1['Changed_Credit_Limit'].astype(float)\n",
        "test_df1['Outstanding_Debt'] = test_df1['Outstanding_Debt'].astype(float)\n",
        "test_df1['Amount_invested_monthly'] = test_df1['Amount_invested_monthly'].astype(float)\n",
        "test_df1['Monthly_Balance'] = test_df1['Monthly_Balance'].astype(float)"
      ]
    },
    {
      "cell_type": "code",
      "execution_count": 256,
      "metadata": {
        "id": "cdD0tEmyeXF5"
      },
      "outputs": [],
      "source": [
        "def take_years(x):\n",
        "    if x is not None:\n",
        "        return str(x).strip()[0:2]\n",
        "\n",
        "test_df1['Credit_History_Age']=test_df1['Credit_History_Age'].apply(take_years)\n",
        "test_df1['Credit_History_Age'] = test_df1['Credit_History_Age'].replace({'na': np.NaN})"
      ]
    },
    {
      "cell_type": "code",
      "execution_count": 257,
      "metadata": {
        "id": "SzVStzxK1KZl"
      },
      "outputs": [],
      "source": [
        "cat_cols = test_df1.select_dtypes(include='object').columns\n",
        "for col in cat_cols:\n",
        "    test_df1[col] = test_df1[col].astype('category')"
      ]
    },
    {
      "cell_type": "code",
      "execution_count": 258,
      "metadata": {
        "id": "Ic5RgkJX1Sz2"
      },
      "outputs": [],
      "source": [
        "cat_cols = ['Occupation', 'Credit_Mix', 'Payment_of_Min_Amount', 'Payment_Behaviour']"
      ]
    },
    {
      "cell_type": "code",
      "execution_count": 259,
      "metadata": {
        "id": "3l54GpMwebKz"
      },
      "outputs": [],
      "source": [
        "num_cols = ['Age', 'Annual_Income', 'Monthly_Inhand_Salary', 'Num_Bank_Accounts',\n",
        "            'Num_Credit_Card', 'Interest_Rate', 'Num_of_Loan','Delay_from_due_date',\n",
        "            'Num_of_Delayed_Payment', 'Changed_Credit_Limit','Num_Credit_Inquiries',\n",
        "            'Outstanding_Debt', 'Credit_Utilization_Ratio','Total_EMI_per_month',\n",
        "            'Amount_invested_monthly','Monthly_Balance', 'Credit_History_Age']"
      ]
    },
    {
      "cell_type": "code",
      "execution_count": 260,
      "metadata": {
        "colab": {
          "base_uri": "https://localhost:8080/"
        },
        "id": "ai89Z_OJe4iq",
        "outputId": "4f01c26f-fbc6-47cd-8332-cdd38a43277d"
      },
      "outputs": [
        {
          "output_type": "stream",
          "name": "stdout",
          "text": [
            "(50000, 4)\n"
          ]
        }
      ],
      "source": [
        "df_cat = test_df1[cat_cols]\n",
        "print(df_cat.shape)"
      ]
    },
    {
      "cell_type": "code",
      "execution_count": 261,
      "metadata": {
        "colab": {
          "base_uri": "https://localhost:8080/"
        },
        "id": "qmITrs_e1dL1",
        "outputId": "4f9ee94b-9d85-450c-b23b-259c5bc60c37"
      },
      "outputs": [
        {
          "output_type": "stream",
          "name": "stdout",
          "text": [
            "(50000, 17)\n"
          ]
        }
      ],
      "source": [
        "df_num = test_df1[num_cols]\n",
        "print(df_num.shape)"
      ]
    },
    {
      "cell_type": "code",
      "execution_count": 262,
      "metadata": {
        "colab": {
          "base_uri": "https://localhost:8080/"
        },
        "id": "74by0rbIe8VB",
        "outputId": "f1484227-5eaf-4c27-a700-1a63ecdedcc8"
      },
      "outputs": [
        {
          "output_type": "stream",
          "name": "stdout",
          "text": [
            "(50000, 4)\n"
          ]
        }
      ],
      "source": [
        "cat_imp = SimpleImputer(strategy = 'most_frequent')\n",
        "cat_imp.fit(df_cat)\n",
        "\n",
        "df_cat_imp = pd.DataFrame(cat_imp.transform(df_cat), columns = cat_cols)\n",
        "print(df_cat_imp.shape)"
      ]
    },
    {
      "cell_type": "code",
      "execution_count": 263,
      "metadata": {
        "colab": {
          "base_uri": "https://localhost:8080/"
        },
        "id": "9ci5-ZfKfDkB",
        "outputId": "4018be5b-0186-45db-ace7-46bd77193240"
      },
      "outputs": [
        {
          "output_type": "stream",
          "name": "stdout",
          "text": [
            "Occupation               15\n",
            "Credit_Mix                3\n",
            "Payment_of_Min_Amount     3\n",
            "Payment_Behaviour         6\n",
            "dtype: int64\n"
          ]
        }
      ],
      "source": [
        "print(df_cat_imp.nunique())"
      ]
    },
    {
      "cell_type": "code",
      "execution_count": 264,
      "metadata": {
        "colab": {
          "base_uri": "https://localhost:8080/"
        },
        "id": "0ZzBrETkfJiZ",
        "outputId": "a122d64b-36dd-4bb6-ed29-df104714379e"
      },
      "outputs": [
        {
          "output_type": "stream",
          "name": "stdout",
          "text": [
            "Occupation               0\n",
            "Credit_Mix               0\n",
            "Payment_of_Min_Amount    0\n",
            "Payment_Behaviour        0\n",
            "dtype: int64\n"
          ]
        }
      ],
      "source": [
        "print(df_cat_imp.isna().sum())"
      ]
    },
    {
      "cell_type": "code",
      "execution_count": 265,
      "metadata": {
        "colab": {
          "base_uri": "https://localhost:8080/"
        },
        "id": "bSYEGZ23fRWa",
        "outputId": "16b80a3f-194d-4831-8402-4f4954cb6ef1"
      },
      "outputs": [
        {
          "output_type": "stream",
          "name": "stdout",
          "text": [
            "(50000, 17)\n"
          ]
        }
      ],
      "source": [
        "num_imp = SimpleImputer(strategy = 'median')\n",
        "num_imp.fit(df_num)\n",
        "\n",
        "df_num_imp = pd.DataFrame(num_imp.transform(df_num), columns = num_cols)\n",
        "print(df_num_imp.shape)"
      ]
    },
    {
      "cell_type": "code",
      "execution_count": 266,
      "metadata": {
        "colab": {
          "base_uri": "https://localhost:8080/"
        },
        "id": "6IURYxOqfTGh",
        "outputId": "94d86cbd-e399-45c4-809d-fc697ca7c662"
      },
      "outputs": [
        {
          "output_type": "stream",
          "name": "stdout",
          "text": [
            "Age                         0\n",
            "Annual_Income               0\n",
            "Monthly_Inhand_Salary       0\n",
            "Num_Bank_Accounts           0\n",
            "Num_Credit_Card             0\n",
            "Interest_Rate               0\n",
            "Num_of_Loan                 0\n",
            "Delay_from_due_date         0\n",
            "Num_of_Delayed_Payment      0\n",
            "Changed_Credit_Limit        0\n",
            "Num_Credit_Inquiries        0\n",
            "Outstanding_Debt            0\n",
            "Credit_Utilization_Ratio    0\n",
            "Total_EMI_per_month         0\n",
            "Amount_invested_monthly     0\n",
            "Monthly_Balance             0\n",
            "Credit_History_Age          0\n",
            "dtype: int64\n"
          ]
        }
      ],
      "source": [
        "print(df_num_imp.isna().sum())"
      ]
    },
    {
      "cell_type": "code",
      "execution_count": 267,
      "metadata": {
        "colab": {
          "base_uri": "https://localhost:8080/"
        },
        "id": "uvJnVxxVfezi",
        "outputId": "a1bb20c7-9865-476e-c225-1e2efce497af"
      },
      "outputs": [
        {
          "output_type": "stream",
          "name": "stdout",
          "text": [
            "(50000, 27)\n"
          ]
        }
      ],
      "source": [
        "ohe = OneHotEncoder(handle_unknown = 'ignore')\n",
        "ohe.fit(df_cat_imp)\n",
        "\n",
        "df_cat_imp_ohe = ohe.transform(df_cat_imp).toarray()\n",
        "print(df_cat_imp_ohe.shape)"
      ]
    },
    {
      "cell_type": "code",
      "execution_count": 268,
      "metadata": {
        "colab": {
          "base_uri": "https://localhost:8080/"
        },
        "id": "4y2ks82vk5dT",
        "outputId": "de592af7-3f13-4da7-eb07-cb43f862e98e"
      },
      "outputs": [
        {
          "output_type": "stream",
          "name": "stdout",
          "text": [
            "(50000, 17)\n"
          ]
        }
      ],
      "source": [
        "ss = StandardScaler()\n",
        "ss.fit(df_num_imp)\n",
        "\n",
        "df_num_imp_ss = ss.transform(df_num_imp)\n",
        "print(df_num_imp_ss.shape)"
      ]
    },
    {
      "cell_type": "code",
      "execution_count": 269,
      "metadata": {
        "colab": {
          "base_uri": "https://localhost:8080/"
        },
        "id": "J17lisaOkaSr",
        "outputId": "6c229cbf-c5e0-4dda-b6fe-37e9ee2eb4fc"
      },
      "outputs": [
        {
          "output_type": "stream",
          "name": "stdout",
          "text": [
            "(50000, 44)\n"
          ]
        }
      ],
      "source": [
        "df_test_con = np.concatenate([df_cat_imp_ohe, df_num_imp_ss],axis = 1)\n",
        "print(df_test_con.shape)"
      ]
    },
    {
      "cell_type": "markdown",
      "metadata": {
        "id": "EmAJxkHqfw0E"
      },
      "source": [
        "**Models**"
      ]
    },
    {
      "cell_type": "code",
      "execution_count": 270,
      "metadata": {
        "colab": {
          "base_uri": "https://localhost:8080/"
        },
        "id": "gV_X1CK71yc1",
        "outputId": "e3c0558e-d70d-42e9-cfdd-b14e89f8b0da"
      },
      "outputs": [
        {
          "output_type": "execute_result",
          "data": {
            "text/plain": [
              "array(['Good', 'Good', 'Good', ..., 'Standard', 'Standard', 'Standard'],\n",
              "      dtype=object)"
            ]
          },
          "metadata": {},
          "execution_count": 270
        }
      ],
      "source": [
        "#Lgistic Regression\n",
        "lr_test_preds1 = lr.predict(df_test_con)\n",
        "lr_test_preds1"
      ]
    },
    {
      "cell_type": "code",
      "execution_count": 271,
      "metadata": {
        "colab": {
          "base_uri": "https://localhost:8080/"
        },
        "id": "Eiy0bwDL14Ed",
        "outputId": "98a376f1-1161-4c1d-b2ee-f3becc708dcb"
      },
      "outputs": [
        {
          "output_type": "execute_result",
          "data": {
            "text/plain": [
              "(50000, 2)"
            ]
          },
          "metadata": {},
          "execution_count": 271
        }
      ],
      "source": [
        "lr_sample_submission = pd.DataFrame({\"ID\":test_df[\"ID\"], \"Credit_Score\":lr_test_preds1})\n",
        "lr_sample_submission.shape"
      ]
    },
    {
      "cell_type": "code",
      "execution_count": 272,
      "metadata": {
        "colab": {
          "base_uri": "https://localhost:8080/",
          "height": 447
        },
        "id": "84gndywqSDTC",
        "outputId": "1ad76d80-ed00-4393-f14f-6a3b09d895ee"
      },
      "outputs": [
        {
          "output_type": "execute_result",
          "data": {
            "text/plain": [
              "<Axes: ylabel='Count'>"
            ]
          },
          "metadata": {},
          "execution_count": 272
        },
        {
          "output_type": "display_data",
          "data": {
            "text/plain": [
              "<Figure size 640x480 with 1 Axes>"
            ],
            "image/png": "[encoded data removed]"
          },
          "metadata": {}
        }
      ],
      "source": [
        "sns.histplot(lr.predict(df_test_con))"
      ]
    },
    {
      "cell_type": "code",
      "execution_count": 273,
      "metadata": {
        "colab": {
          "base_uri": "https://localhost:8080/"
        },
        "id": "cwA8qFof-kMD",
        "outputId": "0b5e6673-fd9c-4107-d697-be64ac741ea2"
      },
      "outputs": [
        {
          "output_type": "execute_result",
          "data": {
            "text/plain": [
              "array(['Good', 'Good', 'Good', ..., 'Poor', 'Poor', 'Standard'],\n",
              "      dtype=object)"
            ]
          },
          "metadata": {},
          "execution_count": 273
        }
      ],
      "source": [
        "#RandomForestClassifier\n",
        "rfc_test_preds1 = rfc.predict(df_test_con)\n",
        "rfc_test_preds1"
      ]
    },
    {
      "cell_type": "code",
      "execution_count": 274,
      "metadata": {
        "colab": {
          "base_uri": "https://localhost:8080/"
        },
        "id": "DVE3mC2QAh82",
        "outputId": "54c6e43f-4ba7-48e1-876e-76df95815375"
      },
      "outputs": [
        {
          "output_type": "execute_result",
          "data": {
            "text/plain": [
              "(50000, 2)"
            ]
          },
          "metadata": {},
          "execution_count": 274
        }
      ],
      "source": [
        "rfc_sample_submission = pd.DataFrame({\"ID\":test_df[\"ID\"], \"Credit_Score\":rfc_test_preds1})\n",
        "rfc_sample_submission.shape"
      ]
    },
    {
      "cell_type": "code",
      "execution_count": 275,
      "metadata": {
        "colab": {
          "base_uri": "https://localhost:8080/",
          "height": 447
        },
        "id": "7zoumW-JTCTr",
        "outputId": "f4531352-e226-4ede-80e6-5127c40c9a91"
      },
      "outputs": [
        {
          "output_type": "execute_result",
          "data": {
            "text/plain": [
              "<Axes: ylabel='Count'>"
            ]
          },
          "metadata": {},
          "execution_count": 275
        },
        {
          "output_type": "display_data",
          "data": {
            "text/plain": [
              "<Figure size 640x480 with 1 Axes>"
            ],
            "image/png": "[encoded data removed]"
          },
          "metadata": {}
        }
      ],
      "source": [
        "sns.histplot(rfc.predict(df_test_con))"
      ]
    },
    {
      "cell_type": "code",
      "execution_count": 276,
      "metadata": {
        "colab": {
          "base_uri": "https://localhost:8080/"
        },
        "id": "pJaCzCACAqla",
        "outputId": "e3cce616-7d3c-474e-e03e-eef8e95efb4c"
      },
      "outputs": [
        {
          "output_type": "execute_result",
          "data": {
            "text/plain": [
              "array(['Good', 'Standard', 'Standard', ..., 'Good', 'Poor', 'Standard'],\n",
              "      dtype=object)"
            ]
          },
          "metadata": {},
          "execution_count": 276
        }
      ],
      "source": [
        "#KNeighborsClassifier\n",
        "knc_test_preds1 = knc.predict(df_test_con)\n",
        "knc_test_preds1"
      ]
    },
    {
      "cell_type": "code",
      "execution_count": 277,
      "metadata": {
        "colab": {
          "base_uri": "https://localhost:8080/"
        },
        "id": "xNN3yJ7lAuzc",
        "outputId": "5b7bc8e1-93b1-4a1f-afc3-399bd215693a"
      },
      "outputs": [
        {
          "output_type": "execute_result",
          "data": {
            "text/plain": [
              "(50000, 2)"
            ]
          },
          "metadata": {},
          "execution_count": 277
        }
      ],
      "source": [
        "knc_sample_submission = pd.DataFrame({\"ID\":test_df[\"ID\"], \"Credit_Score\":knc_test_preds1})\n",
        "knc_sample_submission.shape"
      ]
    },
    {
      "cell_type": "code",
      "execution_count": 278,
      "metadata": {
        "colab": {
          "base_uri": "https://localhost:8080/",
          "height": 447
        },
        "id": "WcoiMRhqUE4j",
        "outputId": "ea6c1bf6-be9c-4f28-f76a-d81d61ac08e7"
      },
      "outputs": [
        {
          "output_type": "execute_result",
          "data": {
            "text/plain": [
              "<Axes: ylabel='Count'>"
            ]
          },
          "metadata": {},
          "execution_count": 278
        },
        {
          "output_type": "display_data",
          "data": {
            "text/plain": [
              "<Figure size 640x480 with 1 Axes>"
            ],
            "image/png": "[encoded data removed]"
          },
          "metadata": {}
        }
      ],
      "source": [
        "sns.histplot(knc.predict(df_test_con))"
      ]
    },
    {
      "cell_type": "code",
      "execution_count": 279,
      "metadata": {
        "colab": {
          "base_uri": "https://localhost:8080/"
        },
        "id": "dAAaO_ZbA16q",
        "outputId": "fff4cf4a-e280-456f-9a56-4a80ddcaa5e4"
      },
      "outputs": [
        {
          "output_type": "execute_result",
          "data": {
            "text/plain": [
              "array(['Poor', 'Standard', 'Standard', ..., 'Poor', 'Poor', 'Standard'],\n",
              "      dtype=object)"
            ]
          },
          "metadata": {},
          "execution_count": 279
        }
      ],
      "source": [
        "#DecisionTreeClassifier\n",
        "dtc_test_preds1 = dtc.predict(df_test_con)\n",
        "dtc_test_preds1"
      ]
    },
    {
      "cell_type": "code",
      "execution_count": 280,
      "metadata": {
        "colab": {
          "base_uri": "https://localhost:8080/"
        },
        "id": "TiMiFUiBA4Yp",
        "outputId": "7ccd5048-acf3-441a-f00a-7bd17313f266"
      },
      "outputs": [
        {
          "output_type": "execute_result",
          "data": {
            "text/plain": [
              "(50000, 2)"
            ]
          },
          "metadata": {},
          "execution_count": 280
        }
      ],
      "source": [
        "dtc_sample_submission = pd.DataFrame({\"ID\":test_df[\"ID\"], \"Credit_Score\":dtc_test_preds1})\n",
        "dtc_sample_submission.shape"
      ]
    },
    {
      "cell_type": "code",
      "execution_count": 281,
      "metadata": {
        "colab": {
          "base_uri": "https://localhost:8080/",
          "height": 447
        },
        "id": "zEA-m_VORQcq",
        "outputId": "0fcc71c7-5ca9-465b-9d27-afb9f80033bd"
      },
      "outputs": [
        {
          "output_type": "execute_result",
          "data": {
            "text/plain": [
              "<Axes: ylabel='Count'>"
            ]
          },
          "metadata": {},
          "execution_count": 281
        },
        {
          "output_type": "display_data",
          "data": {
            "text/plain": [
              "<Figure size 640x480 with 1 Axes>"
            ],
            "image/png": "[encoded data removed]"
          },
          "metadata": {}
        }
      ],
      "source": [
        "sns.histplot(dtc.predict(df_test_con))"
      ]
    }
  ],
  "metadata": {
    "colab": {
      "provenance": []
    },
    "kernelspec": {
      "display_name": "Python 3",
      "name": "python3"
    },
    "language_info": {
      "name": "python"
    }
  },
  "nbformat": 4,
  "nbformat_minor": 0
}